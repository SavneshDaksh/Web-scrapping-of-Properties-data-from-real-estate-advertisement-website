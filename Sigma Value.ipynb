{
 "cells": [
  {
   "cell_type": "code",
   "execution_count": 2,
   "id": "3f299370",
   "metadata": {},
   "outputs": [],
   "source": [
    "import pandas as pd\n",
    "import numpy as np\n",
    "import warnings\n",
    "warnings.filterwarnings('ignore')\n",
    "warnings.simplefilter('ignore')\n"
   ]
  },
  {
   "cell_type": "code",
   "execution_count": 79,
   "id": "cc791bec",
   "metadata": {},
   "outputs": [],
   "source": [
    "from matplotlib import pyplot as plt\n",
    "%matplotlib inline\n",
    "import matplotlib \n",
    "matplotlib.rcParams[\"figure.figsize\"] = (20,10)"
   ]
  },
  {
   "cell_type": "markdown",
   "id": "3677b170",
   "metadata": {},
   "source": [
    "# Load data set"
   ]
  },
  {
   "cell_type": "code",
   "execution_count": 3,
   "id": "c2a8438e",
   "metadata": {},
   "outputs": [],
   "source": [
    "df = pd.read_excel(\"C:/Users/PCC/Downloads/Assignment Internship (1).xlsx\")"
   ]
  },
  {
   "cell_type": "code",
   "execution_count": 4,
   "id": "4a3db667",
   "metadata": {},
   "outputs": [
    {
     "data": {
      "text/html": [
       "<div>\n",
       "<style scoped>\n",
       "    .dataframe tbody tr th:only-of-type {\n",
       "        vertical-align: middle;\n",
       "    }\n",
       "\n",
       "    .dataframe tbody tr th {\n",
       "        vertical-align: top;\n",
       "    }\n",
       "\n",
       "    .dataframe thead th {\n",
       "        text-align: right;\n",
       "    }\n",
       "</style>\n",
       "<table border=\"1\" class=\"dataframe\">\n",
       "  <thead>\n",
       "    <tr style=\"text-align: right;\">\n",
       "      <th></th>\n",
       "      <th>Unnamed: 0</th>\n",
       "      <th>project</th>\n",
       "      <th>location</th>\n",
       "      <th>bhk</th>\n",
       "      <th>total_floors</th>\n",
       "      <th>carpet area</th>\n",
       "      <th>super area</th>\n",
       "      <th>price</th>\n",
       "      <th>rate</th>\n",
       "      <th>Linear Regression</th>\n",
       "      <th>Random Forest</th>\n",
       "      <th>Decision Tree</th>\n",
       "      <th>Gradient Boosting</th>\n",
       "    </tr>\n",
       "  </thead>\n",
       "  <tbody>\n",
       "    <tr>\n",
       "      <th>0</th>\n",
       "      <td>0</td>\n",
       "      <td>Casa Imperia</td>\n",
       "      <td>Wakad</td>\n",
       "      <td>2</td>\n",
       "      <td>10</td>\n",
       "      <td>0.0</td>\n",
       "      <td>970</td>\n",
       "      <td>6800000</td>\n",
       "      <td>7010.309278</td>\n",
       "      <td>5912.142153</td>\n",
       "      <td>6637.060435</td>\n",
       "      <td>6569.112132</td>\n",
       "      <td>4499.264877</td>\n",
       "    </tr>\n",
       "    <tr>\n",
       "      <th>1</th>\n",
       "      <td>1</td>\n",
       "      <td>5 Star Royal Entrada</td>\n",
       "      <td>Wakad</td>\n",
       "      <td>2</td>\n",
       "      <td>12</td>\n",
       "      <td>800.0</td>\n",
       "      <td>0</td>\n",
       "      <td>6500000</td>\n",
       "      <td>8125.000000</td>\n",
       "      <td>6062.893599</td>\n",
       "      <td>6587.658950</td>\n",
       "      <td>6569.112132</td>\n",
       "      <td>4123.087637</td>\n",
       "    </tr>\n",
       "    <tr>\n",
       "      <th>2</th>\n",
       "      <td>2</td>\n",
       "      <td>The Royal Mirage</td>\n",
       "      <td>Wakad</td>\n",
       "      <td>2</td>\n",
       "      <td>12</td>\n",
       "      <td>730.0</td>\n",
       "      <td>0</td>\n",
       "      <td>6199890</td>\n",
       "      <td>8493.000000</td>\n",
       "      <td>5792.511819</td>\n",
       "      <td>6625.170206</td>\n",
       "      <td>6569.112132</td>\n",
       "      <td>4870.961077</td>\n",
       "    </tr>\n",
       "    <tr>\n",
       "      <th>3</th>\n",
       "      <td>3</td>\n",
       "      <td>Legacy Bliss</td>\n",
       "      <td>Wakad</td>\n",
       "      <td>2</td>\n",
       "      <td>10</td>\n",
       "      <td>0.0</td>\n",
       "      <td>934</td>\n",
       "      <td>6614588</td>\n",
       "      <td>7082.000000</td>\n",
       "      <td>5828.227561</td>\n",
       "      <td>6637.060435</td>\n",
       "      <td>6569.112132</td>\n",
       "      <td>4358.187396</td>\n",
       "    </tr>\n",
       "    <tr>\n",
       "      <th>4</th>\n",
       "      <td>4</td>\n",
       "      <td>premium project</td>\n",
       "      <td>Wakad</td>\n",
       "      <td>2</td>\n",
       "      <td>12</td>\n",
       "      <td>0.0</td>\n",
       "      <td>985</td>\n",
       "      <td>4499480</td>\n",
       "      <td>4568.000000</td>\n",
       "      <td>5755.906660</td>\n",
       "      <td>6707.263053</td>\n",
       "      <td>6569.112132</td>\n",
       "      <td>4509.720852</td>\n",
       "    </tr>\n",
       "    <tr>\n",
       "      <th>5</th>\n",
       "      <td>5</td>\n",
       "      <td>Yashada Splendid Radiance</td>\n",
       "      <td>Wakad</td>\n",
       "      <td>2</td>\n",
       "      <td>11</td>\n",
       "      <td>646.0</td>\n",
       "      <td>0</td>\n",
       "      <td>5724206</td>\n",
       "      <td>8861.000000</td>\n",
       "      <td>5698.607643</td>\n",
       "      <td>6631.956212</td>\n",
       "      <td>6569.112132</td>\n",
       "      <td>4787.693115</td>\n",
       "    </tr>\n",
       "    <tr>\n",
       "      <th>6</th>\n",
       "      <td>6</td>\n",
       "      <td>Opus 77</td>\n",
       "      <td>Wakad</td>\n",
       "      <td>3</td>\n",
       "      <td>6</td>\n",
       "      <td>0.0</td>\n",
       "      <td>1343</td>\n",
       "      <td>9999978</td>\n",
       "      <td>7446.000000</td>\n",
       "      <td>6271.984600</td>\n",
       "      <td>6933.508385</td>\n",
       "      <td>6536.852737</td>\n",
       "      <td>4811.872661</td>\n",
       "    </tr>\n",
       "    <tr>\n",
       "      <th>7</th>\n",
       "      <td>7</td>\n",
       "      <td>Casa Imperia</td>\n",
       "      <td>Wakad</td>\n",
       "      <td>2</td>\n",
       "      <td>12</td>\n",
       "      <td>0.0</td>\n",
       "      <td>950</td>\n",
       "      <td>7500000</td>\n",
       "      <td>7894.736842</td>\n",
       "      <td>5996.520128</td>\n",
       "      <td>6637.060435</td>\n",
       "      <td>6569.112132</td>\n",
       "      <td>4209.104252</td>\n",
       "    </tr>\n",
       "    <tr>\n",
       "      <th>8</th>\n",
       "      <td>8</td>\n",
       "      <td>Rohan Prathama</td>\n",
       "      <td>Hinjewadi</td>\n",
       "      <td>2</td>\n",
       "      <td>11</td>\n",
       "      <td>620.0</td>\n",
       "      <td>0</td>\n",
       "      <td>5551480</td>\n",
       "      <td>8954.000000</td>\n",
       "      <td>6063.568673</td>\n",
       "      <td>5722.917749</td>\n",
       "      <td>5618.492443</td>\n",
       "      <td>4264.542797</td>\n",
       "    </tr>\n",
       "    <tr>\n",
       "      <th>9</th>\n",
       "      <td>9</td>\n",
       "      <td>Krishna Amarillo</td>\n",
       "      <td>Hinjewadi</td>\n",
       "      <td>2</td>\n",
       "      <td>14</td>\n",
       "      <td>706.0</td>\n",
       "      <td>0</td>\n",
       "      <td>5300000</td>\n",
       "      <td>7507.082153</td>\n",
       "      <td>6298.028585</td>\n",
       "      <td>5722.917749</td>\n",
       "      <td>5618.492443</td>\n",
       "      <td>3913.915977</td>\n",
       "    </tr>\n",
       "    <tr>\n",
       "      <th>10</th>\n",
       "      <td>10</td>\n",
       "      <td>Siddhi Nisarg</td>\n",
       "      <td>Wakad</td>\n",
       "      <td>2</td>\n",
       "      <td>8</td>\n",
       "      <td>939.0</td>\n",
       "      <td>0</td>\n",
       "      <td>6974892</td>\n",
       "      <td>7428.000000</td>\n",
       "      <td>5703.557221</td>\n",
       "      <td>6483.435931</td>\n",
       "      <td>6569.112132</td>\n",
       "      <td>4428.191495</td>\n",
       "    </tr>\n",
       "    <tr>\n",
       "      <th>11</th>\n",
       "      <td>11</td>\n",
       "      <td>Saarrthi Savvy Homes</td>\n",
       "      <td>Hinjewadi</td>\n",
       "      <td>2</td>\n",
       "      <td>14</td>\n",
       "      <td>712.0</td>\n",
       "      <td>0</td>\n",
       "      <td>6399675</td>\n",
       "      <td>8988.307584</td>\n",
       "      <td>6217.673335</td>\n",
       "      <td>5717.967549</td>\n",
       "      <td>5618.492443</td>\n",
       "      <td>3940.912986</td>\n",
       "    </tr>\n",
       "    <tr>\n",
       "      <th>12</th>\n",
       "      <td>12</td>\n",
       "      <td>Siddhi Nisarg</td>\n",
       "      <td>Bhumkar Nagar</td>\n",
       "      <td>2</td>\n",
       "      <td>8</td>\n",
       "      <td>962.0</td>\n",
       "      <td>0</td>\n",
       "      <td>6999512</td>\n",
       "      <td>7276.000000</td>\n",
       "      <td>6065.787435</td>\n",
       "      <td>6140.484822</td>\n",
       "      <td>6436.876072</td>\n",
       "      <td>4595.483534</td>\n",
       "    </tr>\n",
       "    <tr>\n",
       "      <th>13</th>\n",
       "      <td>13</td>\n",
       "      <td>5 Star Royal Grande</td>\n",
       "      <td>Wakad</td>\n",
       "      <td>2</td>\n",
       "      <td>24</td>\n",
       "      <td>652.5</td>\n",
       "      <td>0</td>\n",
       "      <td>5400000</td>\n",
       "      <td>8275.862069</td>\n",
       "      <td>6551.584109</td>\n",
       "      <td>6435.826880</td>\n",
       "      <td>5996.102195</td>\n",
       "      <td>5186.684707</td>\n",
       "    </tr>\n",
       "    <tr>\n",
       "      <th>14</th>\n",
       "      <td>14</td>\n",
       "      <td>Siddhi Nisarg</td>\n",
       "      <td>Wakad</td>\n",
       "      <td>2</td>\n",
       "      <td>13</td>\n",
       "      <td>900.0</td>\n",
       "      <td>0</td>\n",
       "      <td>6949800</td>\n",
       "      <td>7722.000000</td>\n",
       "      <td>5913.915801</td>\n",
       "      <td>6483.435931</td>\n",
       "      <td>6569.112132</td>\n",
       "      <td>4626.275374</td>\n",
       "    </tr>\n",
       "    <tr>\n",
       "      <th>15</th>\n",
       "      <td>15</td>\n",
       "      <td>Premium Project</td>\n",
       "      <td>Wakad</td>\n",
       "      <td>2</td>\n",
       "      <td>20</td>\n",
       "      <td>0.0</td>\n",
       "      <td>1195</td>\n",
       "      <td>7501015</td>\n",
       "      <td>6277.000000</td>\n",
       "      <td>6281.520893</td>\n",
       "      <td>6348.807201</td>\n",
       "      <td>6901.940523</td>\n",
       "      <td>4676.729551</td>\n",
       "    </tr>\n",
       "    <tr>\n",
       "      <th>16</th>\n",
       "      <td>16</td>\n",
       "      <td>Sr.Swati</td>\n",
       "      <td>Balewadi</td>\n",
       "      <td>2</td>\n",
       "      <td>9</td>\n",
       "      <td>0.0</td>\n",
       "      <td>997</td>\n",
       "      <td>7631038</td>\n",
       "      <td>7654.000000</td>\n",
       "      <td>6060.415955</td>\n",
       "      <td>7210.060061</td>\n",
       "      <td>6839.688886</td>\n",
       "      <td>5275.148969</td>\n",
       "    </tr>\n",
       "  </tbody>\n",
       "</table>\n",
       "</div>"
      ],
      "text/plain": [
       "    Unnamed: 0                    project       location  bhk  total_floors  \\\n",
       "0            0               Casa Imperia          Wakad    2            10   \n",
       "1            1       5 Star Royal Entrada          Wakad    2            12   \n",
       "2            2           The Royal Mirage          Wakad    2            12   \n",
       "3            3               Legacy Bliss          Wakad    2            10   \n",
       "4            4            premium project          Wakad    2            12   \n",
       "5            5  Yashada Splendid Radiance          Wakad    2            11   \n",
       "6            6                    Opus 77          Wakad    3             6   \n",
       "7            7               Casa Imperia          Wakad    2            12   \n",
       "8            8             Rohan Prathama      Hinjewadi    2            11   \n",
       "9            9           Krishna Amarillo      Hinjewadi    2            14   \n",
       "10          10              Siddhi Nisarg          Wakad    2             8   \n",
       "11          11       Saarrthi Savvy Homes      Hinjewadi    2            14   \n",
       "12          12              Siddhi Nisarg  Bhumkar Nagar    2             8   \n",
       "13          13        5 Star Royal Grande          Wakad    2            24   \n",
       "14          14              Siddhi Nisarg          Wakad    2            13   \n",
       "15          15            Premium Project          Wakad    2            20   \n",
       "16          16                   Sr.Swati       Balewadi    2             9   \n",
       "\n",
       "    carpet area  super area    price        rate   Linear Regression  \\\n",
       "0           0.0         970  6800000  7010.309278        5912.142153   \n",
       "1         800.0           0  6500000  8125.000000        6062.893599   \n",
       "2         730.0           0  6199890  8493.000000        5792.511819   \n",
       "3           0.0         934  6614588  7082.000000        5828.227561   \n",
       "4           0.0         985  4499480  4568.000000        5755.906660   \n",
       "5         646.0           0  5724206  8861.000000        5698.607643   \n",
       "6           0.0        1343  9999978  7446.000000        6271.984600   \n",
       "7           0.0         950  7500000  7894.736842        5996.520128   \n",
       "8         620.0           0  5551480  8954.000000        6063.568673   \n",
       "9         706.0           0  5300000  7507.082153        6298.028585   \n",
       "10        939.0           0  6974892  7428.000000        5703.557221   \n",
       "11        712.0           0  6399675  8988.307584        6217.673335   \n",
       "12        962.0           0  6999512  7276.000000        6065.787435   \n",
       "13        652.5           0  5400000  8275.862069        6551.584109   \n",
       "14        900.0           0  6949800  7722.000000        5913.915801   \n",
       "15          0.0        1195  7501015  6277.000000        6281.520893   \n",
       "16          0.0         997  7631038  7654.000000        6060.415955   \n",
       "\n",
       "    Random Forest  Decision Tree  Gradient Boosting  \n",
       "0     6637.060435    6569.112132        4499.264877  \n",
       "1     6587.658950    6569.112132        4123.087637  \n",
       "2     6625.170206    6569.112132        4870.961077  \n",
       "3     6637.060435    6569.112132        4358.187396  \n",
       "4     6707.263053    6569.112132        4509.720852  \n",
       "5     6631.956212    6569.112132        4787.693115  \n",
       "6     6933.508385    6536.852737        4811.872661  \n",
       "7     6637.060435    6569.112132        4209.104252  \n",
       "8     5722.917749    5618.492443        4264.542797  \n",
       "9     5722.917749    5618.492443        3913.915977  \n",
       "10    6483.435931    6569.112132        4428.191495  \n",
       "11    5717.967549    5618.492443        3940.912986  \n",
       "12    6140.484822    6436.876072        4595.483534  \n",
       "13    6435.826880    5996.102195        5186.684707  \n",
       "14    6483.435931    6569.112132        4626.275374  \n",
       "15    6348.807201    6901.940523        4676.729551  \n",
       "16    7210.060061    6839.688886        5275.148969  "
      ]
     },
     "execution_count": 4,
     "metadata": {},
     "output_type": "execute_result"
    }
   ],
   "source": [
    "df"
   ]
  },
  {
   "cell_type": "code",
   "execution_count": 6,
   "id": "247be3fa",
   "metadata": {},
   "outputs": [
    {
     "name": "stdout",
     "output_type": "stream",
     "text": [
      "<class 'pandas.core.frame.DataFrame'>\n",
      "RangeIndex: 17 entries, 0 to 16\n",
      "Data columns (total 13 columns):\n",
      " #   Column             Non-Null Count  Dtype  \n",
      "---  ------             --------------  -----  \n",
      " 0   Unnamed: 0         17 non-null     int64  \n",
      " 1   project            17 non-null     object \n",
      " 2   location           17 non-null     object \n",
      " 3   bhk                17 non-null     int64  \n",
      " 4   total_floors       17 non-null     int64  \n",
      " 5   carpet area        17 non-null     float64\n",
      " 6   super area         17 non-null     int64  \n",
      " 7   price              17 non-null     int64  \n",
      " 8   rate               17 non-null     float64\n",
      " 9   Linear Regression  17 non-null     float64\n",
      " 10  Random Forest      17 non-null     float64\n",
      " 11  Decision Tree      17 non-null     float64\n",
      " 12  Gradient Boosting  17 non-null     float64\n",
      "dtypes: float64(6), int64(5), object(2)\n",
      "memory usage: 1.9+ KB\n"
     ]
    }
   ],
   "source": [
    "df.info()"
   ]
  },
  {
   "cell_type": "code",
   "execution_count": 7,
   "id": "474e9a44",
   "metadata": {},
   "outputs": [
    {
     "data": {
      "text/plain": [
       "(17, 13)"
      ]
     },
     "execution_count": 7,
     "metadata": {},
     "output_type": "execute_result"
    }
   ],
   "source": [
    "df.shape"
   ]
  },
  {
   "cell_type": "code",
   "execution_count": 8,
   "id": "15b244b7",
   "metadata": {},
   "outputs": [
    {
     "data": {
      "text/plain": [
       "array(['Casa Imperia', '5 Star Royal Entrada', 'The Royal Mirage',\n",
       "       'Legacy Bliss', 'premium project', 'Yashada Splendid Radiance',\n",
       "       'Opus 77', 'Rohan Prathama', 'Krishna Amarillo', 'Siddhi Nisarg',\n",
       "       'Saarrthi Savvy Homes', '5 Star Royal Grande', 'Premium Project',\n",
       "       'Sr.Swati'], dtype=object)"
      ]
     },
     "execution_count": 8,
     "metadata": {},
     "output_type": "execute_result"
    }
   ],
   "source": [
    "df['project'].unique()\n"
   ]
  },
  {
   "cell_type": "code",
   "execution_count": 9,
   "id": "24ed3a06",
   "metadata": {},
   "outputs": [
    {
     "data": {
      "text/plain": [
       "project\n",
       "5 Star Royal Entrada         1\n",
       "5 Star Royal Grande          1\n",
       "Casa Imperia                 2\n",
       "Krishna Amarillo             1\n",
       "Legacy Bliss                 1\n",
       "Opus 77                      1\n",
       "Premium Project              1\n",
       "Rohan Prathama               1\n",
       "Saarrthi Savvy Homes         1\n",
       "Siddhi Nisarg                3\n",
       "Sr.Swati                     1\n",
       "The Royal Mirage             1\n",
       "Yashada Splendid Radiance    1\n",
       "premium project              1\n",
       "Name: project, dtype: int64"
      ]
     },
     "execution_count": 9,
     "metadata": {},
     "output_type": "execute_result"
    }
   ],
   "source": [
    "df.groupby('project')['project'].agg('count')\n"
   ]
  },
  {
   "cell_type": "code",
   "execution_count": 10,
   "id": "a0d6eb81",
   "metadata": {},
   "outputs": [
    {
     "data": {
      "text/plain": [
       "Index(['Unnamed: 0', 'project', 'location', 'bhk', 'total_floors',\n",
       "       'carpet area', 'super area', 'price', 'rate ', 'Linear Regression',\n",
       "       'Random Forest', 'Decision Tree', 'Gradient Boosting'],\n",
       "      dtype='object')"
      ]
     },
     "execution_count": 10,
     "metadata": {},
     "output_type": "execute_result"
    }
   ],
   "source": [
    "df.columns"
   ]
  },
  {
   "cell_type": "markdown",
   "id": "8ea90b7d",
   "metadata": {},
   "source": [
    "# Drop column that are not required to build our model"
   ]
  },
  {
   "cell_type": "code",
   "execution_count": 11,
   "id": "3ad0c7bd",
   "metadata": {},
   "outputs": [],
   "source": [
    "df1 = df.drop(['Unnamed: 0'],axis=1)\n"
   ]
  },
  {
   "cell_type": "code",
   "execution_count": 13,
   "id": "aac1ae80",
   "metadata": {},
   "outputs": [
    {
     "data": {
      "text/html": [
       "<div>\n",
       "<style scoped>\n",
       "    .dataframe tbody tr th:only-of-type {\n",
       "        vertical-align: middle;\n",
       "    }\n",
       "\n",
       "    .dataframe tbody tr th {\n",
       "        vertical-align: top;\n",
       "    }\n",
       "\n",
       "    .dataframe thead th {\n",
       "        text-align: right;\n",
       "    }\n",
       "</style>\n",
       "<table border=\"1\" class=\"dataframe\">\n",
       "  <thead>\n",
       "    <tr style=\"text-align: right;\">\n",
       "      <th></th>\n",
       "      <th>project</th>\n",
       "      <th>location</th>\n",
       "      <th>bhk</th>\n",
       "      <th>total_floors</th>\n",
       "      <th>carpet area</th>\n",
       "      <th>super area</th>\n",
       "      <th>price</th>\n",
       "      <th>rate</th>\n",
       "      <th>Linear Regression</th>\n",
       "      <th>Random Forest</th>\n",
       "      <th>Decision Tree</th>\n",
       "      <th>Gradient Boosting</th>\n",
       "    </tr>\n",
       "  </thead>\n",
       "  <tbody>\n",
       "    <tr>\n",
       "      <th>0</th>\n",
       "      <td>Casa Imperia</td>\n",
       "      <td>Wakad</td>\n",
       "      <td>2</td>\n",
       "      <td>10</td>\n",
       "      <td>0.0</td>\n",
       "      <td>970</td>\n",
       "      <td>6800000</td>\n",
       "      <td>7010.309278</td>\n",
       "      <td>5912.142153</td>\n",
       "      <td>6637.060435</td>\n",
       "      <td>6569.112132</td>\n",
       "      <td>4499.264877</td>\n",
       "    </tr>\n",
       "    <tr>\n",
       "      <th>1</th>\n",
       "      <td>5 Star Royal Entrada</td>\n",
       "      <td>Wakad</td>\n",
       "      <td>2</td>\n",
       "      <td>12</td>\n",
       "      <td>800.0</td>\n",
       "      <td>0</td>\n",
       "      <td>6500000</td>\n",
       "      <td>8125.000000</td>\n",
       "      <td>6062.893599</td>\n",
       "      <td>6587.658950</td>\n",
       "      <td>6569.112132</td>\n",
       "      <td>4123.087637</td>\n",
       "    </tr>\n",
       "    <tr>\n",
       "      <th>2</th>\n",
       "      <td>The Royal Mirage</td>\n",
       "      <td>Wakad</td>\n",
       "      <td>2</td>\n",
       "      <td>12</td>\n",
       "      <td>730.0</td>\n",
       "      <td>0</td>\n",
       "      <td>6199890</td>\n",
       "      <td>8493.000000</td>\n",
       "      <td>5792.511819</td>\n",
       "      <td>6625.170206</td>\n",
       "      <td>6569.112132</td>\n",
       "      <td>4870.961077</td>\n",
       "    </tr>\n",
       "    <tr>\n",
       "      <th>3</th>\n",
       "      <td>Legacy Bliss</td>\n",
       "      <td>Wakad</td>\n",
       "      <td>2</td>\n",
       "      <td>10</td>\n",
       "      <td>0.0</td>\n",
       "      <td>934</td>\n",
       "      <td>6614588</td>\n",
       "      <td>7082.000000</td>\n",
       "      <td>5828.227561</td>\n",
       "      <td>6637.060435</td>\n",
       "      <td>6569.112132</td>\n",
       "      <td>4358.187396</td>\n",
       "    </tr>\n",
       "    <tr>\n",
       "      <th>4</th>\n",
       "      <td>premium project</td>\n",
       "      <td>Wakad</td>\n",
       "      <td>2</td>\n",
       "      <td>12</td>\n",
       "      <td>0.0</td>\n",
       "      <td>985</td>\n",
       "      <td>4499480</td>\n",
       "      <td>4568.000000</td>\n",
       "      <td>5755.906660</td>\n",
       "      <td>6707.263053</td>\n",
       "      <td>6569.112132</td>\n",
       "      <td>4509.720852</td>\n",
       "    </tr>\n",
       "  </tbody>\n",
       "</table>\n",
       "</div>"
      ],
      "text/plain": [
       "                project location  bhk  total_floors  carpet area  super area  \\\n",
       "0          Casa Imperia    Wakad    2            10          0.0         970   \n",
       "1  5 Star Royal Entrada    Wakad    2            12        800.0           0   \n",
       "2      The Royal Mirage    Wakad    2            12        730.0           0   \n",
       "3          Legacy Bliss    Wakad    2            10          0.0         934   \n",
       "4       premium project    Wakad    2            12          0.0         985   \n",
       "\n",
       "     price        rate   Linear Regression  Random Forest  Decision Tree  \\\n",
       "0  6800000  7010.309278        5912.142153    6637.060435    6569.112132   \n",
       "1  6500000  8125.000000        6062.893599    6587.658950    6569.112132   \n",
       "2  6199890  8493.000000        5792.511819    6625.170206    6569.112132   \n",
       "3  6614588  7082.000000        5828.227561    6637.060435    6569.112132   \n",
       "4  4499480  4568.000000        5755.906660    6707.263053    6569.112132   \n",
       "\n",
       "   Gradient Boosting  \n",
       "0        4499.264877  \n",
       "1        4123.087637  \n",
       "2        4870.961077  \n",
       "3        4358.187396  \n",
       "4        4509.720852  "
      ]
     },
     "execution_count": 13,
     "metadata": {},
     "output_type": "execute_result"
    }
   ],
   "source": [
    "df1.head()"
   ]
  },
  {
   "cell_type": "markdown",
   "id": "1a2269b5",
   "metadata": {},
   "source": [
    "# Data Cleaning"
   ]
  },
  {
   "cell_type": "code",
   "execution_count": 15,
   "id": "1526327d",
   "metadata": {},
   "outputs": [
    {
     "data": {
      "text/plain": [
       "project              0\n",
       "location             0\n",
       "bhk                  0\n",
       "total_floors         0\n",
       "carpet area          0\n",
       "super area           0\n",
       "price                0\n",
       "rate                 0\n",
       "Linear Regression    0\n",
       "Random Forest        0\n",
       "Decision Tree        0\n",
       "Gradient Boosting    0\n",
       "dtype: int64"
      ]
     },
     "execution_count": 15,
     "metadata": {},
     "output_type": "execute_result"
    }
   ],
   "source": [
    "df1.isnull().sum()"
   ]
  },
  {
   "cell_type": "code",
   "execution_count": 16,
   "id": "9475cffc",
   "metadata": {},
   "outputs": [],
   "source": [
    "df2 = df1.dropna()"
   ]
  },
  {
   "cell_type": "code",
   "execution_count": 17,
   "id": "262d3333",
   "metadata": {},
   "outputs": [
    {
     "data": {
      "text/plain": [
       "project              0\n",
       "location             0\n",
       "bhk                  0\n",
       "total_floors         0\n",
       "carpet area          0\n",
       "super area           0\n",
       "price                0\n",
       "rate                 0\n",
       "Linear Regression    0\n",
       "Random Forest        0\n",
       "Decision Tree        0\n",
       "Gradient Boosting    0\n",
       "dtype: int64"
      ]
     },
     "execution_count": 17,
     "metadata": {},
     "output_type": "execute_result"
    }
   ],
   "source": [
    "df2.isnull().sum()"
   ]
  },
  {
   "cell_type": "code",
   "execution_count": 18,
   "id": "dfe5615d",
   "metadata": {},
   "outputs": [
    {
     "data": {
      "text/plain": [
       "(17, 12)"
      ]
     },
     "execution_count": 18,
     "metadata": {},
     "output_type": "execute_result"
    }
   ],
   "source": [
    "df2.shape"
   ]
  },
  {
   "cell_type": "code",
   "execution_count": 19,
   "id": "e5fa7fff",
   "metadata": {},
   "outputs": [
    {
     "data": {
      "text/plain": [
       "array([2, 3], dtype=int64)"
      ]
     },
     "execution_count": 19,
     "metadata": {},
     "output_type": "execute_result"
    }
   ],
   "source": [
    "df2['bhk'].unique()"
   ]
  },
  {
   "cell_type": "code",
   "execution_count": 23,
   "id": "565f32ce",
   "metadata": {},
   "outputs": [
    {
     "data": {
      "text/html": [
       "<div>\n",
       "<style scoped>\n",
       "    .dataframe tbody tr th:only-of-type {\n",
       "        vertical-align: middle;\n",
       "    }\n",
       "\n",
       "    .dataframe tbody tr th {\n",
       "        vertical-align: top;\n",
       "    }\n",
       "\n",
       "    .dataframe thead th {\n",
       "        text-align: right;\n",
       "    }\n",
       "</style>\n",
       "<table border=\"1\" class=\"dataframe\">\n",
       "  <thead>\n",
       "    <tr style=\"text-align: right;\">\n",
       "      <th></th>\n",
       "      <th>project</th>\n",
       "      <th>location</th>\n",
       "      <th>bhk</th>\n",
       "      <th>total_floors</th>\n",
       "      <th>carpet area</th>\n",
       "      <th>super area</th>\n",
       "      <th>price</th>\n",
       "      <th>rate</th>\n",
       "      <th>Linear Regression</th>\n",
       "      <th>Random Forest</th>\n",
       "      <th>Decision Tree</th>\n",
       "      <th>Gradient Boosting</th>\n",
       "    </tr>\n",
       "  </thead>\n",
       "  <tbody>\n",
       "    <tr>\n",
       "      <th>6</th>\n",
       "      <td>Opus 77</td>\n",
       "      <td>Wakad</td>\n",
       "      <td>3</td>\n",
       "      <td>6</td>\n",
       "      <td>0.0</td>\n",
       "      <td>1343</td>\n",
       "      <td>9999978</td>\n",
       "      <td>7446.0</td>\n",
       "      <td>6271.9846</td>\n",
       "      <td>6933.508385</td>\n",
       "      <td>6536.852737</td>\n",
       "      <td>4811.872661</td>\n",
       "    </tr>\n",
       "  </tbody>\n",
       "</table>\n",
       "</div>"
      ],
      "text/plain": [
       "   project location  bhk  total_floors  carpet area  super area    price  \\\n",
       "6  Opus 77    Wakad    3             6          0.0        1343  9999978   \n",
       "\n",
       "    rate   Linear Regression  Random Forest  Decision Tree  Gradient Boosting  \n",
       "6  7446.0          6271.9846    6933.508385    6536.852737        4811.872661  "
      ]
     },
     "execution_count": 23,
     "metadata": {},
     "output_type": "execute_result"
    }
   ],
   "source": [
    "df2[df2.bhk>2]"
   ]
  },
  {
   "cell_type": "code",
   "execution_count": 33,
   "id": "8b8f6977",
   "metadata": {},
   "outputs": [],
   "source": [
    "df2.rename(columns={'carpet area': 'carpet_area','super area':'super_area','Linear Regression':\n",
    "                    'Linear_Regression','Random Forest':'Random_Forest','Decision Tree':'Decision_Tree','Gradient Boosting':'Gradient_Boosting'}, inplace=True)\n"
   ]
  },
  {
   "cell_type": "code",
   "execution_count": 43,
   "id": "04f42a4f",
   "metadata": {},
   "outputs": [
    {
     "data": {
      "text/html": [
       "<div>\n",
       "<style scoped>\n",
       "    .dataframe tbody tr th:only-of-type {\n",
       "        vertical-align: middle;\n",
       "    }\n",
       "\n",
       "    .dataframe tbody tr th {\n",
       "        vertical-align: top;\n",
       "    }\n",
       "\n",
       "    .dataframe thead th {\n",
       "        text-align: right;\n",
       "    }\n",
       "</style>\n",
       "<table border=\"1\" class=\"dataframe\">\n",
       "  <thead>\n",
       "    <tr style=\"text-align: right;\">\n",
       "      <th></th>\n",
       "      <th>project</th>\n",
       "      <th>location</th>\n",
       "      <th>bhk</th>\n",
       "      <th>total_floors</th>\n",
       "      <th>carpet_area</th>\n",
       "      <th>super_area</th>\n",
       "      <th>price</th>\n",
       "      <th>rate</th>\n",
       "      <th>Linear_Regression</th>\n",
       "      <th>Random_Forest</th>\n",
       "      <th>Decision_Tree</th>\n",
       "      <th>Gradient_Boosting</th>\n",
       "    </tr>\n",
       "  </thead>\n",
       "  <tbody>\n",
       "    <tr>\n",
       "      <th>0</th>\n",
       "      <td>Casa Imperia</td>\n",
       "      <td>Wakad</td>\n",
       "      <td>2</td>\n",
       "      <td>10</td>\n",
       "      <td>0.0</td>\n",
       "      <td>970</td>\n",
       "      <td>6800000</td>\n",
       "      <td>7010.309278</td>\n",
       "      <td>5912.142153</td>\n",
       "      <td>6637.060435</td>\n",
       "      <td>6569.112132</td>\n",
       "      <td>4499.264877</td>\n",
       "    </tr>\n",
       "    <tr>\n",
       "      <th>1</th>\n",
       "      <td>5 Star Royal Entrada</td>\n",
       "      <td>Wakad</td>\n",
       "      <td>2</td>\n",
       "      <td>12</td>\n",
       "      <td>800.0</td>\n",
       "      <td>0</td>\n",
       "      <td>6500000</td>\n",
       "      <td>8125.000000</td>\n",
       "      <td>6062.893599</td>\n",
       "      <td>6587.658950</td>\n",
       "      <td>6569.112132</td>\n",
       "      <td>4123.087637</td>\n",
       "    </tr>\n",
       "    <tr>\n",
       "      <th>2</th>\n",
       "      <td>The Royal Mirage</td>\n",
       "      <td>Wakad</td>\n",
       "      <td>2</td>\n",
       "      <td>12</td>\n",
       "      <td>730.0</td>\n",
       "      <td>0</td>\n",
       "      <td>6199890</td>\n",
       "      <td>8493.000000</td>\n",
       "      <td>5792.511819</td>\n",
       "      <td>6625.170206</td>\n",
       "      <td>6569.112132</td>\n",
       "      <td>4870.961077</td>\n",
       "    </tr>\n",
       "    <tr>\n",
       "      <th>3</th>\n",
       "      <td>Legacy Bliss</td>\n",
       "      <td>Wakad</td>\n",
       "      <td>2</td>\n",
       "      <td>10</td>\n",
       "      <td>0.0</td>\n",
       "      <td>934</td>\n",
       "      <td>6614588</td>\n",
       "      <td>7082.000000</td>\n",
       "      <td>5828.227561</td>\n",
       "      <td>6637.060435</td>\n",
       "      <td>6569.112132</td>\n",
       "      <td>4358.187396</td>\n",
       "    </tr>\n",
       "    <tr>\n",
       "      <th>4</th>\n",
       "      <td>premium project</td>\n",
       "      <td>Wakad</td>\n",
       "      <td>2</td>\n",
       "      <td>12</td>\n",
       "      <td>0.0</td>\n",
       "      <td>985</td>\n",
       "      <td>4499480</td>\n",
       "      <td>4568.000000</td>\n",
       "      <td>5755.906660</td>\n",
       "      <td>6707.263053</td>\n",
       "      <td>6569.112132</td>\n",
       "      <td>4509.720852</td>\n",
       "    </tr>\n",
       "    <tr>\n",
       "      <th>5</th>\n",
       "      <td>Yashada Splendid Radiance</td>\n",
       "      <td>Wakad</td>\n",
       "      <td>2</td>\n",
       "      <td>11</td>\n",
       "      <td>646.0</td>\n",
       "      <td>0</td>\n",
       "      <td>5724206</td>\n",
       "      <td>8861.000000</td>\n",
       "      <td>5698.607643</td>\n",
       "      <td>6631.956212</td>\n",
       "      <td>6569.112132</td>\n",
       "      <td>4787.693115</td>\n",
       "    </tr>\n",
       "    <tr>\n",
       "      <th>6</th>\n",
       "      <td>Opus 77</td>\n",
       "      <td>Wakad</td>\n",
       "      <td>3</td>\n",
       "      <td>6</td>\n",
       "      <td>0.0</td>\n",
       "      <td>1343</td>\n",
       "      <td>9999978</td>\n",
       "      <td>7446.000000</td>\n",
       "      <td>6271.984600</td>\n",
       "      <td>6933.508385</td>\n",
       "      <td>6536.852737</td>\n",
       "      <td>4811.872661</td>\n",
       "    </tr>\n",
       "    <tr>\n",
       "      <th>7</th>\n",
       "      <td>Casa Imperia</td>\n",
       "      <td>Wakad</td>\n",
       "      <td>2</td>\n",
       "      <td>12</td>\n",
       "      <td>0.0</td>\n",
       "      <td>950</td>\n",
       "      <td>7500000</td>\n",
       "      <td>7894.736842</td>\n",
       "      <td>5996.520128</td>\n",
       "      <td>6637.060435</td>\n",
       "      <td>6569.112132</td>\n",
       "      <td>4209.104252</td>\n",
       "    </tr>\n",
       "    <tr>\n",
       "      <th>8</th>\n",
       "      <td>Rohan Prathama</td>\n",
       "      <td>Hinjewadi</td>\n",
       "      <td>2</td>\n",
       "      <td>11</td>\n",
       "      <td>620.0</td>\n",
       "      <td>0</td>\n",
       "      <td>5551480</td>\n",
       "      <td>8954.000000</td>\n",
       "      <td>6063.568673</td>\n",
       "      <td>5722.917749</td>\n",
       "      <td>5618.492443</td>\n",
       "      <td>4264.542797</td>\n",
       "    </tr>\n",
       "    <tr>\n",
       "      <th>9</th>\n",
       "      <td>Krishna Amarillo</td>\n",
       "      <td>Hinjewadi</td>\n",
       "      <td>2</td>\n",
       "      <td>14</td>\n",
       "      <td>706.0</td>\n",
       "      <td>0</td>\n",
       "      <td>5300000</td>\n",
       "      <td>7507.082153</td>\n",
       "      <td>6298.028585</td>\n",
       "      <td>5722.917749</td>\n",
       "      <td>5618.492443</td>\n",
       "      <td>3913.915977</td>\n",
       "    </tr>\n",
       "    <tr>\n",
       "      <th>10</th>\n",
       "      <td>Siddhi Nisarg</td>\n",
       "      <td>Wakad</td>\n",
       "      <td>2</td>\n",
       "      <td>8</td>\n",
       "      <td>939.0</td>\n",
       "      <td>0</td>\n",
       "      <td>6974892</td>\n",
       "      <td>7428.000000</td>\n",
       "      <td>5703.557221</td>\n",
       "      <td>6483.435931</td>\n",
       "      <td>6569.112132</td>\n",
       "      <td>4428.191495</td>\n",
       "    </tr>\n",
       "    <tr>\n",
       "      <th>11</th>\n",
       "      <td>Saarrthi Savvy Homes</td>\n",
       "      <td>Hinjewadi</td>\n",
       "      <td>2</td>\n",
       "      <td>14</td>\n",
       "      <td>712.0</td>\n",
       "      <td>0</td>\n",
       "      <td>6399675</td>\n",
       "      <td>8988.307584</td>\n",
       "      <td>6217.673335</td>\n",
       "      <td>5717.967549</td>\n",
       "      <td>5618.492443</td>\n",
       "      <td>3940.912986</td>\n",
       "    </tr>\n",
       "    <tr>\n",
       "      <th>12</th>\n",
       "      <td>Siddhi Nisarg</td>\n",
       "      <td>Bhumkar Nagar</td>\n",
       "      <td>2</td>\n",
       "      <td>8</td>\n",
       "      <td>962.0</td>\n",
       "      <td>0</td>\n",
       "      <td>6999512</td>\n",
       "      <td>7276.000000</td>\n",
       "      <td>6065.787435</td>\n",
       "      <td>6140.484822</td>\n",
       "      <td>6436.876072</td>\n",
       "      <td>4595.483534</td>\n",
       "    </tr>\n",
       "    <tr>\n",
       "      <th>13</th>\n",
       "      <td>5 Star Royal Grande</td>\n",
       "      <td>Wakad</td>\n",
       "      <td>2</td>\n",
       "      <td>24</td>\n",
       "      <td>652.5</td>\n",
       "      <td>0</td>\n",
       "      <td>5400000</td>\n",
       "      <td>8275.862069</td>\n",
       "      <td>6551.584109</td>\n",
       "      <td>6435.826880</td>\n",
       "      <td>5996.102195</td>\n",
       "      <td>5186.684707</td>\n",
       "    </tr>\n",
       "    <tr>\n",
       "      <th>14</th>\n",
       "      <td>Siddhi Nisarg</td>\n",
       "      <td>Wakad</td>\n",
       "      <td>2</td>\n",
       "      <td>13</td>\n",
       "      <td>900.0</td>\n",
       "      <td>0</td>\n",
       "      <td>6949800</td>\n",
       "      <td>7722.000000</td>\n",
       "      <td>5913.915801</td>\n",
       "      <td>6483.435931</td>\n",
       "      <td>6569.112132</td>\n",
       "      <td>4626.275374</td>\n",
       "    </tr>\n",
       "    <tr>\n",
       "      <th>15</th>\n",
       "      <td>Premium Project</td>\n",
       "      <td>Wakad</td>\n",
       "      <td>2</td>\n",
       "      <td>20</td>\n",
       "      <td>0.0</td>\n",
       "      <td>1195</td>\n",
       "      <td>7501015</td>\n",
       "      <td>6277.000000</td>\n",
       "      <td>6281.520893</td>\n",
       "      <td>6348.807201</td>\n",
       "      <td>6901.940523</td>\n",
       "      <td>4676.729551</td>\n",
       "    </tr>\n",
       "    <tr>\n",
       "      <th>16</th>\n",
       "      <td>Sr.Swati</td>\n",
       "      <td>Balewadi</td>\n",
       "      <td>2</td>\n",
       "      <td>9</td>\n",
       "      <td>0.0</td>\n",
       "      <td>997</td>\n",
       "      <td>7631038</td>\n",
       "      <td>7654.000000</td>\n",
       "      <td>6060.415955</td>\n",
       "      <td>7210.060061</td>\n",
       "      <td>6839.688886</td>\n",
       "      <td>5275.148969</td>\n",
       "    </tr>\n",
       "  </tbody>\n",
       "</table>\n",
       "</div>"
      ],
      "text/plain": [
       "                      project       location  bhk  total_floors  carpet_area  \\\n",
       "0                Casa Imperia          Wakad    2            10          0.0   \n",
       "1        5 Star Royal Entrada          Wakad    2            12        800.0   \n",
       "2            The Royal Mirage          Wakad    2            12        730.0   \n",
       "3                Legacy Bliss          Wakad    2            10          0.0   \n",
       "4             premium project          Wakad    2            12          0.0   \n",
       "5   Yashada Splendid Radiance          Wakad    2            11        646.0   \n",
       "6                     Opus 77          Wakad    3             6          0.0   \n",
       "7                Casa Imperia          Wakad    2            12          0.0   \n",
       "8              Rohan Prathama      Hinjewadi    2            11        620.0   \n",
       "9            Krishna Amarillo      Hinjewadi    2            14        706.0   \n",
       "10              Siddhi Nisarg          Wakad    2             8        939.0   \n",
       "11       Saarrthi Savvy Homes      Hinjewadi    2            14        712.0   \n",
       "12              Siddhi Nisarg  Bhumkar Nagar    2             8        962.0   \n",
       "13        5 Star Royal Grande          Wakad    2            24        652.5   \n",
       "14              Siddhi Nisarg          Wakad    2            13        900.0   \n",
       "15            Premium Project          Wakad    2            20          0.0   \n",
       "16                   Sr.Swati       Balewadi    2             9          0.0   \n",
       "\n",
       "    super_area    price        rate   Linear_Regression  Random_Forest  \\\n",
       "0          970  6800000  7010.309278        5912.142153    6637.060435   \n",
       "1            0  6500000  8125.000000        6062.893599    6587.658950   \n",
       "2            0  6199890  8493.000000        5792.511819    6625.170206   \n",
       "3          934  6614588  7082.000000        5828.227561    6637.060435   \n",
       "4          985  4499480  4568.000000        5755.906660    6707.263053   \n",
       "5            0  5724206  8861.000000        5698.607643    6631.956212   \n",
       "6         1343  9999978  7446.000000        6271.984600    6933.508385   \n",
       "7          950  7500000  7894.736842        5996.520128    6637.060435   \n",
       "8            0  5551480  8954.000000        6063.568673    5722.917749   \n",
       "9            0  5300000  7507.082153        6298.028585    5722.917749   \n",
       "10           0  6974892  7428.000000        5703.557221    6483.435931   \n",
       "11           0  6399675  8988.307584        6217.673335    5717.967549   \n",
       "12           0  6999512  7276.000000        6065.787435    6140.484822   \n",
       "13           0  5400000  8275.862069        6551.584109    6435.826880   \n",
       "14           0  6949800  7722.000000        5913.915801    6483.435931   \n",
       "15        1195  7501015  6277.000000        6281.520893    6348.807201   \n",
       "16         997  7631038  7654.000000        6060.415955    7210.060061   \n",
       "\n",
       "    Decision_Tree  Gradient_Boosting  \n",
       "0     6569.112132        4499.264877  \n",
       "1     6569.112132        4123.087637  \n",
       "2     6569.112132        4870.961077  \n",
       "3     6569.112132        4358.187396  \n",
       "4     6569.112132        4509.720852  \n",
       "5     6569.112132        4787.693115  \n",
       "6     6536.852737        4811.872661  \n",
       "7     6569.112132        4209.104252  \n",
       "8     5618.492443        4264.542797  \n",
       "9     5618.492443        3913.915977  \n",
       "10    6569.112132        4428.191495  \n",
       "11    5618.492443        3940.912986  \n",
       "12    6436.876072        4595.483534  \n",
       "13    5996.102195        5186.684707  \n",
       "14    6569.112132        4626.275374  \n",
       "15    6901.940523        4676.729551  \n",
       "16    6839.688886        5275.148969  "
      ]
     },
     "execution_count": 43,
     "metadata": {},
     "output_type": "execute_result"
    }
   ],
   "source": [
    "df2"
   ]
  },
  {
   "cell_type": "code",
   "execution_count": 41,
   "id": "84e2821e",
   "metadata": {},
   "outputs": [
    {
     "data": {
      "text/plain": [
       "array([  0. , 800. , 730. , 646. , 620. , 706. , 939. , 712. , 962. ,\n",
       "       652.5, 900. ])"
      ]
     },
     "execution_count": 41,
     "metadata": {},
     "output_type": "execute_result"
    }
   ],
   "source": [
    "df2.carpet_area.unique()\n"
   ]
  },
  {
   "cell_type": "code",
   "execution_count": 35,
   "id": "ac600a12",
   "metadata": {},
   "outputs": [],
   "source": [
    "def is_float(x):\n",
    "    try:\n",
    "        float(x)\n",
    "    except:\n",
    "        return False\n",
    "    return True"
   ]
  },
  {
   "cell_type": "code",
   "execution_count": 42,
   "id": "9ee1e93d",
   "metadata": {},
   "outputs": [
    {
     "data": {
      "text/html": [
       "<div>\n",
       "<style scoped>\n",
       "    .dataframe tbody tr th:only-of-type {\n",
       "        vertical-align: middle;\n",
       "    }\n",
       "\n",
       "    .dataframe tbody tr th {\n",
       "        vertical-align: top;\n",
       "    }\n",
       "\n",
       "    .dataframe thead th {\n",
       "        text-align: right;\n",
       "    }\n",
       "</style>\n",
       "<table border=\"1\" class=\"dataframe\">\n",
       "  <thead>\n",
       "    <tr style=\"text-align: right;\">\n",
       "      <th></th>\n",
       "      <th>project</th>\n",
       "      <th>location</th>\n",
       "      <th>bhk</th>\n",
       "      <th>total_floors</th>\n",
       "      <th>carpet_area</th>\n",
       "      <th>super_area</th>\n",
       "      <th>price</th>\n",
       "      <th>rate</th>\n",
       "      <th>Linear_Regression</th>\n",
       "      <th>Random_Forest</th>\n",
       "      <th>Decision_Tree</th>\n",
       "      <th>Gradient_Boosting</th>\n",
       "    </tr>\n",
       "  </thead>\n",
       "  <tbody>\n",
       "  </tbody>\n",
       "</table>\n",
       "</div>"
      ],
      "text/plain": [
       "Empty DataFrame\n",
       "Columns: [project, location, bhk, total_floors, carpet_area, super_area, price, rate , Linear_Regression, Random_Forest, Decision_Tree, Gradient_Boosting]\n",
       "Index: []"
      ]
     },
     "execution_count": 42,
     "metadata": {},
     "output_type": "execute_result"
    }
   ],
   "source": [
    "df2[~df2['carpet_area'].apply(is_float)]"
   ]
  },
  {
   "cell_type": "code",
   "execution_count": 40,
   "id": "58ad34f4",
   "metadata": {},
   "outputs": [],
   "source": [
    "def convert_sqft_to_num(x):\n",
    "    tokens = x.split('-')\n",
    "    if len(tokens) == 2:\n",
    "        return (float(tokens[0])+float(tokens[1]))/2\n",
    "    try:\n",
    "        return float(x)\n",
    "    except:\n",
    "        return None "
   ]
  },
  {
   "cell_type": "code",
   "execution_count": 44,
   "id": "18b7c8e0",
   "metadata": {},
   "outputs": [
    {
     "data": {
      "text/plain": [
       "800.0"
      ]
     },
     "execution_count": 44,
     "metadata": {},
     "output_type": "execute_result"
    }
   ],
   "source": [
    "convert_sqft_to_num('800')"
   ]
  },
  {
   "cell_type": "code",
   "execution_count": 45,
   "id": "78baf873",
   "metadata": {},
   "outputs": [
    {
     "data": {
      "text/plain": [
       "782.5"
      ]
     },
     "execution_count": 45,
     "metadata": {},
     "output_type": "execute_result"
    }
   ],
   "source": [
    "convert_sqft_to_num('800 - 765')"
   ]
  },
  {
   "cell_type": "code",
   "execution_count": 46,
   "id": "03979611",
   "metadata": {},
   "outputs": [],
   "source": [
    "convert_sqft_to_num('782.5Sq. Meter')"
   ]
  },
  {
   "cell_type": "markdown",
   "id": "f172892c",
   "metadata": {},
   "source": [
    "# For below row, it shows total_sqft as 782.5 which is an average of the range 800 - 765\n"
   ]
  },
  {
   "cell_type": "code",
   "execution_count": 50,
   "id": "c7e7f29a",
   "metadata": {},
   "outputs": [
    {
     "data": {
      "text/plain": [
       "782.5"
      ]
     },
     "execution_count": 50,
     "metadata": {},
     "output_type": "execute_result"
    }
   ],
   "source": [
    "(800 + 765)/2"
   ]
  },
  {
   "cell_type": "markdown",
   "id": "43173d52",
   "metadata": {},
   "source": [
    "# Feature Engineering"
   ]
  },
  {
   "cell_type": "code",
   "execution_count": 53,
   "id": "212ccda7",
   "metadata": {},
   "outputs": [
    {
     "data": {
      "text/html": [
       "<div>\n",
       "<style scoped>\n",
       "    .dataframe tbody tr th:only-of-type {\n",
       "        vertical-align: middle;\n",
       "    }\n",
       "\n",
       "    .dataframe tbody tr th {\n",
       "        vertical-align: top;\n",
       "    }\n",
       "\n",
       "    .dataframe thead th {\n",
       "        text-align: right;\n",
       "    }\n",
       "</style>\n",
       "<table border=\"1\" class=\"dataframe\">\n",
       "  <thead>\n",
       "    <tr style=\"text-align: right;\">\n",
       "      <th></th>\n",
       "      <th>project</th>\n",
       "      <th>location</th>\n",
       "      <th>bhk</th>\n",
       "      <th>total_floors</th>\n",
       "      <th>carpet_area</th>\n",
       "      <th>super_area</th>\n",
       "      <th>price</th>\n",
       "      <th>rate</th>\n",
       "      <th>Linear_Regression</th>\n",
       "      <th>Random_Forest</th>\n",
       "      <th>Decision_Tree</th>\n",
       "      <th>Gradient_Boosting</th>\n",
       "    </tr>\n",
       "  </thead>\n",
       "  <tbody>\n",
       "    <tr>\n",
       "      <th>0</th>\n",
       "      <td>Casa Imperia</td>\n",
       "      <td>Wakad</td>\n",
       "      <td>2</td>\n",
       "      <td>10</td>\n",
       "      <td>0.0</td>\n",
       "      <td>970</td>\n",
       "      <td>6800000</td>\n",
       "      <td>7010.309278</td>\n",
       "      <td>5912.142153</td>\n",
       "      <td>6637.060435</td>\n",
       "      <td>6569.112132</td>\n",
       "      <td>4499.264877</td>\n",
       "    </tr>\n",
       "    <tr>\n",
       "      <th>1</th>\n",
       "      <td>5 Star Royal Entrada</td>\n",
       "      <td>Wakad</td>\n",
       "      <td>2</td>\n",
       "      <td>12</td>\n",
       "      <td>800.0</td>\n",
       "      <td>0</td>\n",
       "      <td>6500000</td>\n",
       "      <td>8125.000000</td>\n",
       "      <td>6062.893599</td>\n",
       "      <td>6587.658950</td>\n",
       "      <td>6569.112132</td>\n",
       "      <td>4123.087637</td>\n",
       "    </tr>\n",
       "    <tr>\n",
       "      <th>2</th>\n",
       "      <td>The Royal Mirage</td>\n",
       "      <td>Wakad</td>\n",
       "      <td>2</td>\n",
       "      <td>12</td>\n",
       "      <td>730.0</td>\n",
       "      <td>0</td>\n",
       "      <td>6199890</td>\n",
       "      <td>8493.000000</td>\n",
       "      <td>5792.511819</td>\n",
       "      <td>6625.170206</td>\n",
       "      <td>6569.112132</td>\n",
       "      <td>4870.961077</td>\n",
       "    </tr>\n",
       "    <tr>\n",
       "      <th>3</th>\n",
       "      <td>Legacy Bliss</td>\n",
       "      <td>Wakad</td>\n",
       "      <td>2</td>\n",
       "      <td>10</td>\n",
       "      <td>0.0</td>\n",
       "      <td>934</td>\n",
       "      <td>6614588</td>\n",
       "      <td>7082.000000</td>\n",
       "      <td>5828.227561</td>\n",
       "      <td>6637.060435</td>\n",
       "      <td>6569.112132</td>\n",
       "      <td>4358.187396</td>\n",
       "    </tr>\n",
       "    <tr>\n",
       "      <th>4</th>\n",
       "      <td>premium project</td>\n",
       "      <td>Wakad</td>\n",
       "      <td>2</td>\n",
       "      <td>12</td>\n",
       "      <td>0.0</td>\n",
       "      <td>985</td>\n",
       "      <td>4499480</td>\n",
       "      <td>4568.000000</td>\n",
       "      <td>5755.906660</td>\n",
       "      <td>6707.263053</td>\n",
       "      <td>6569.112132</td>\n",
       "      <td>4509.720852</td>\n",
       "    </tr>\n",
       "  </tbody>\n",
       "</table>\n",
       "</div>"
      ],
      "text/plain": [
       "                project location  bhk  total_floors  carpet_area  super_area  \\\n",
       "0          Casa Imperia    Wakad    2            10          0.0         970   \n",
       "1  5 Star Royal Entrada    Wakad    2            12        800.0           0   \n",
       "2      The Royal Mirage    Wakad    2            12        730.0           0   \n",
       "3          Legacy Bliss    Wakad    2            10          0.0         934   \n",
       "4       premium project    Wakad    2            12          0.0         985   \n",
       "\n",
       "     price        rate   Linear_Regression  Random_Forest  Decision_Tree  \\\n",
       "0  6800000  7010.309278        5912.142153    6637.060435    6569.112132   \n",
       "1  6500000  8125.000000        6062.893599    6587.658950    6569.112132   \n",
       "2  6199890  8493.000000        5792.511819    6625.170206    6569.112132   \n",
       "3  6614588  7082.000000        5828.227561    6637.060435    6569.112132   \n",
       "4  4499480  4568.000000        5755.906660    6707.263053    6569.112132   \n",
       "\n",
       "   Gradient_Boosting  \n",
       "0        4499.264877  \n",
       "1        4123.087637  \n",
       "2        4870.961077  \n",
       "3        4358.187396  \n",
       "4        4509.720852  "
      ]
     },
     "execution_count": 53,
     "metadata": {},
     "output_type": "execute_result"
    }
   ],
   "source": [
    "df2.head(5)"
   ]
  },
  {
   "cell_type": "code",
   "execution_count": 55,
   "id": "9741ee05",
   "metadata": {},
   "outputs": [
    {
     "data": {
      "text/plain": [
       "count    1.700000e+01\n",
       "mean     6.620327e+06\n",
       "std      1.232863e+06\n",
       "min      4.499480e+06\n",
       "25%      5.724206e+06\n",
       "50%      6.614588e+06\n",
       "75%      6.999512e+06\n",
       "max      9.999978e+06\n",
       "Name: price, dtype: float64"
      ]
     },
     "execution_count": 55,
     "metadata": {},
     "output_type": "execute_result"
    }
   ],
   "source": [
    "df2desc = df2['price'].describe()\n",
    "df2desc"
   ]
  },
  {
   "cell_type": "code",
   "execution_count": 56,
   "id": "26044fa3",
   "metadata": {},
   "outputs": [],
   "source": [
    "df2.to_csv(\"df2_bhp.csv\",index=False)"
   ]
  },
  {
   "cell_type": "code",
   "execution_count": 57,
   "id": "c9bb33a4",
   "metadata": {},
   "outputs": [
    {
     "data": {
      "text/plain": [
       "4"
      ]
     },
     "execution_count": 57,
     "metadata": {},
     "output_type": "execute_result"
    }
   ],
   "source": [
    "len(df2.location.unique())"
   ]
  },
  {
   "cell_type": "code",
   "execution_count": 58,
   "id": "1dc0f279",
   "metadata": {},
   "outputs": [
    {
     "data": {
      "text/plain": [
       "location\n",
       "Wakad            12\n",
       "Hinjewadi         3\n",
       "Bhumkar Nagar     1\n",
       "Balewadi          1\n",
       "Name: count, dtype: int64"
      ]
     },
     "execution_count": 58,
     "metadata": {},
     "output_type": "execute_result"
    }
   ],
   "source": [
    "df2.location = df2.location.apply(lambda x: x.strip())\n",
    "location_stats = df2['location'].value_counts(ascending=False)\n",
    "location_stats"
   ]
  },
  {
   "cell_type": "code",
   "execution_count": 60,
   "id": "f07e27b1",
   "metadata": {},
   "outputs": [
    {
     "data": {
      "text/plain": [
       "3"
      ]
     },
     "execution_count": 60,
     "metadata": {},
     "output_type": "execute_result"
    }
   ],
   "source": [
    "len(location_stats[location_stats<=5])"
   ]
  },
  {
   "cell_type": "markdown",
   "id": "7ddddc14",
   "metadata": {},
   "source": [
    "# Dimensionality Reduction\n"
   ]
  },
  {
   "cell_type": "code",
   "execution_count": 61,
   "id": "985eee2d",
   "metadata": {},
   "outputs": [
    {
     "data": {
      "text/plain": [
       "location\n",
       "Hinjewadi        3\n",
       "Bhumkar Nagar    1\n",
       "Balewadi         1\n",
       "Name: count, dtype: int64"
      ]
     },
     "execution_count": 61,
     "metadata": {},
     "output_type": "execute_result"
    }
   ],
   "source": [
    "location_stats_less_than_5 = location_stats[location_stats<=5]\n",
    "location_stats_less_than_5"
   ]
  },
  {
   "cell_type": "code",
   "execution_count": 63,
   "id": "56608ffa",
   "metadata": {},
   "outputs": [
    {
     "data": {
      "text/plain": [
       "2"
      ]
     },
     "execution_count": 63,
     "metadata": {},
     "output_type": "execute_result"
    }
   ],
   "source": [
    "df2.location = df2.location.apply(lambda x: 'other' if x in location_stats_less_than_5 else x)\n",
    "len(df2.location.unique())"
   ]
  },
  {
   "cell_type": "code",
   "execution_count": 64,
   "id": "3b812935",
   "metadata": {},
   "outputs": [
    {
     "data": {
      "text/html": [
       "<div>\n",
       "<style scoped>\n",
       "    .dataframe tbody tr th:only-of-type {\n",
       "        vertical-align: middle;\n",
       "    }\n",
       "\n",
       "    .dataframe tbody tr th {\n",
       "        vertical-align: top;\n",
       "    }\n",
       "\n",
       "    .dataframe thead th {\n",
       "        text-align: right;\n",
       "    }\n",
       "</style>\n",
       "<table border=\"1\" class=\"dataframe\">\n",
       "  <thead>\n",
       "    <tr style=\"text-align: right;\">\n",
       "      <th></th>\n",
       "      <th>project</th>\n",
       "      <th>location</th>\n",
       "      <th>bhk</th>\n",
       "      <th>total_floors</th>\n",
       "      <th>carpet_area</th>\n",
       "      <th>super_area</th>\n",
       "      <th>price</th>\n",
       "      <th>rate</th>\n",
       "      <th>Linear_Regression</th>\n",
       "      <th>Random_Forest</th>\n",
       "      <th>Decision_Tree</th>\n",
       "      <th>Gradient_Boosting</th>\n",
       "    </tr>\n",
       "  </thead>\n",
       "  <tbody>\n",
       "    <tr>\n",
       "      <th>0</th>\n",
       "      <td>Casa Imperia</td>\n",
       "      <td>Wakad</td>\n",
       "      <td>2</td>\n",
       "      <td>10</td>\n",
       "      <td>0.0</td>\n",
       "      <td>970</td>\n",
       "      <td>6800000</td>\n",
       "      <td>7010.309278</td>\n",
       "      <td>5912.142153</td>\n",
       "      <td>6637.060435</td>\n",
       "      <td>6569.112132</td>\n",
       "      <td>4499.264877</td>\n",
       "    </tr>\n",
       "    <tr>\n",
       "      <th>1</th>\n",
       "      <td>5 Star Royal Entrada</td>\n",
       "      <td>Wakad</td>\n",
       "      <td>2</td>\n",
       "      <td>12</td>\n",
       "      <td>800.0</td>\n",
       "      <td>0</td>\n",
       "      <td>6500000</td>\n",
       "      <td>8125.000000</td>\n",
       "      <td>6062.893599</td>\n",
       "      <td>6587.658950</td>\n",
       "      <td>6569.112132</td>\n",
       "      <td>4123.087637</td>\n",
       "    </tr>\n",
       "    <tr>\n",
       "      <th>2</th>\n",
       "      <td>The Royal Mirage</td>\n",
       "      <td>Wakad</td>\n",
       "      <td>2</td>\n",
       "      <td>12</td>\n",
       "      <td>730.0</td>\n",
       "      <td>0</td>\n",
       "      <td>6199890</td>\n",
       "      <td>8493.000000</td>\n",
       "      <td>5792.511819</td>\n",
       "      <td>6625.170206</td>\n",
       "      <td>6569.112132</td>\n",
       "      <td>4870.961077</td>\n",
       "    </tr>\n",
       "    <tr>\n",
       "      <th>3</th>\n",
       "      <td>Legacy Bliss</td>\n",
       "      <td>Wakad</td>\n",
       "      <td>2</td>\n",
       "      <td>10</td>\n",
       "      <td>0.0</td>\n",
       "      <td>934</td>\n",
       "      <td>6614588</td>\n",
       "      <td>7082.000000</td>\n",
       "      <td>5828.227561</td>\n",
       "      <td>6637.060435</td>\n",
       "      <td>6569.112132</td>\n",
       "      <td>4358.187396</td>\n",
       "    </tr>\n",
       "    <tr>\n",
       "      <th>4</th>\n",
       "      <td>premium project</td>\n",
       "      <td>Wakad</td>\n",
       "      <td>2</td>\n",
       "      <td>12</td>\n",
       "      <td>0.0</td>\n",
       "      <td>985</td>\n",
       "      <td>4499480</td>\n",
       "      <td>4568.000000</td>\n",
       "      <td>5755.906660</td>\n",
       "      <td>6707.263053</td>\n",
       "      <td>6569.112132</td>\n",
       "      <td>4509.720852</td>\n",
       "    </tr>\n",
       "  </tbody>\n",
       "</table>\n",
       "</div>"
      ],
      "text/plain": [
       "                project location  bhk  total_floors  carpet_area  super_area  \\\n",
       "0          Casa Imperia    Wakad    2            10          0.0         970   \n",
       "1  5 Star Royal Entrada    Wakad    2            12        800.0           0   \n",
       "2      The Royal Mirage    Wakad    2            12        730.0           0   \n",
       "3          Legacy Bliss    Wakad    2            10          0.0         934   \n",
       "4       premium project    Wakad    2            12          0.0         985   \n",
       "\n",
       "     price        rate   Linear_Regression  Random_Forest  Decision_Tree  \\\n",
       "0  6800000  7010.309278        5912.142153    6637.060435    6569.112132   \n",
       "1  6500000  8125.000000        6062.893599    6587.658950    6569.112132   \n",
       "2  6199890  8493.000000        5792.511819    6625.170206    6569.112132   \n",
       "3  6614588  7082.000000        5828.227561    6637.060435    6569.112132   \n",
       "4  4499480  4568.000000        5755.906660    6707.263053    6569.112132   \n",
       "\n",
       "   Gradient_Boosting  \n",
       "0        4499.264877  \n",
       "1        4123.087637  \n",
       "2        4870.961077  \n",
       "3        4358.187396  \n",
       "4        4509.720852  "
      ]
     },
     "execution_count": 64,
     "metadata": {},
     "output_type": "execute_result"
    }
   ],
   "source": [
    "df2.head(5)"
   ]
  },
  {
   "cell_type": "markdown",
   "id": "3bfdb869",
   "metadata": {},
   "source": [
    "# Outlier Removal Using Buisness Logic"
   ]
  },
  {
   "cell_type": "code",
   "execution_count": 68,
   "id": "8126f52e",
   "metadata": {},
   "outputs": [
    {
     "data": {
      "text/html": [
       "<div>\n",
       "<style scoped>\n",
       "    .dataframe tbody tr th:only-of-type {\n",
       "        vertical-align: middle;\n",
       "    }\n",
       "\n",
       "    .dataframe tbody tr th {\n",
       "        vertical-align: top;\n",
       "    }\n",
       "\n",
       "    .dataframe thead th {\n",
       "        text-align: right;\n",
       "    }\n",
       "</style>\n",
       "<table border=\"1\" class=\"dataframe\">\n",
       "  <thead>\n",
       "    <tr style=\"text-align: right;\">\n",
       "      <th></th>\n",
       "      <th>project</th>\n",
       "      <th>location</th>\n",
       "      <th>bhk</th>\n",
       "      <th>total_floors</th>\n",
       "      <th>carpet_area</th>\n",
       "      <th>super_area</th>\n",
       "      <th>price</th>\n",
       "      <th>rate</th>\n",
       "      <th>Linear_Regression</th>\n",
       "      <th>Random_Forest</th>\n",
       "      <th>Decision_Tree</th>\n",
       "      <th>Gradient_Boosting</th>\n",
       "    </tr>\n",
       "  </thead>\n",
       "  <tbody>\n",
       "    <tr>\n",
       "      <th>0</th>\n",
       "      <td>Casa Imperia</td>\n",
       "      <td>Wakad</td>\n",
       "      <td>2</td>\n",
       "      <td>10</td>\n",
       "      <td>0.0</td>\n",
       "      <td>970</td>\n",
       "      <td>6800000</td>\n",
       "      <td>7010.309278</td>\n",
       "      <td>5912.142153</td>\n",
       "      <td>6637.060435</td>\n",
       "      <td>6569.112132</td>\n",
       "      <td>4499.264877</td>\n",
       "    </tr>\n",
       "    <tr>\n",
       "      <th>3</th>\n",
       "      <td>Legacy Bliss</td>\n",
       "      <td>Wakad</td>\n",
       "      <td>2</td>\n",
       "      <td>10</td>\n",
       "      <td>0.0</td>\n",
       "      <td>934</td>\n",
       "      <td>6614588</td>\n",
       "      <td>7082.000000</td>\n",
       "      <td>5828.227561</td>\n",
       "      <td>6637.060435</td>\n",
       "      <td>6569.112132</td>\n",
       "      <td>4358.187396</td>\n",
       "    </tr>\n",
       "    <tr>\n",
       "      <th>4</th>\n",
       "      <td>premium project</td>\n",
       "      <td>Wakad</td>\n",
       "      <td>2</td>\n",
       "      <td>12</td>\n",
       "      <td>0.0</td>\n",
       "      <td>985</td>\n",
       "      <td>4499480</td>\n",
       "      <td>4568.000000</td>\n",
       "      <td>5755.906660</td>\n",
       "      <td>6707.263053</td>\n",
       "      <td>6569.112132</td>\n",
       "      <td>4509.720852</td>\n",
       "    </tr>\n",
       "    <tr>\n",
       "      <th>6</th>\n",
       "      <td>Opus 77</td>\n",
       "      <td>Wakad</td>\n",
       "      <td>3</td>\n",
       "      <td>6</td>\n",
       "      <td>0.0</td>\n",
       "      <td>1343</td>\n",
       "      <td>9999978</td>\n",
       "      <td>7446.000000</td>\n",
       "      <td>6271.984600</td>\n",
       "      <td>6933.508385</td>\n",
       "      <td>6536.852737</td>\n",
       "      <td>4811.872661</td>\n",
       "    </tr>\n",
       "    <tr>\n",
       "      <th>7</th>\n",
       "      <td>Casa Imperia</td>\n",
       "      <td>Wakad</td>\n",
       "      <td>2</td>\n",
       "      <td>12</td>\n",
       "      <td>0.0</td>\n",
       "      <td>950</td>\n",
       "      <td>7500000</td>\n",
       "      <td>7894.736842</td>\n",
       "      <td>5996.520128</td>\n",
       "      <td>6637.060435</td>\n",
       "      <td>6569.112132</td>\n",
       "      <td>4209.104252</td>\n",
       "    </tr>\n",
       "  </tbody>\n",
       "</table>\n",
       "</div>"
      ],
      "text/plain": [
       "           project location  bhk  total_floors  carpet_area  super_area  \\\n",
       "0     Casa Imperia    Wakad    2            10          0.0         970   \n",
       "3     Legacy Bliss    Wakad    2            10          0.0         934   \n",
       "4  premium project    Wakad    2            12          0.0         985   \n",
       "6          Opus 77    Wakad    3             6          0.0        1343   \n",
       "7     Casa Imperia    Wakad    2            12          0.0         950   \n",
       "\n",
       "     price        rate   Linear_Regression  Random_Forest  Decision_Tree  \\\n",
       "0  6800000  7010.309278        5912.142153    6637.060435    6569.112132   \n",
       "3  6614588  7082.000000        5828.227561    6637.060435    6569.112132   \n",
       "4  4499480  4568.000000        5755.906660    6707.263053    6569.112132   \n",
       "6  9999978  7446.000000        6271.984600    6933.508385    6536.852737   \n",
       "7  7500000  7894.736842        5996.520128    6637.060435    6569.112132   \n",
       "\n",
       "   Gradient_Boosting  \n",
       "0        4499.264877  \n",
       "3        4358.187396  \n",
       "4        4509.720852  \n",
       "6        4811.872661  \n",
       "7        4209.104252  "
      ]
     },
     "execution_count": 68,
     "metadata": {},
     "output_type": "execute_result"
    }
   ],
   "source": [
    "df2[df2.carpet_area/df2.bhk<100].head()"
   ]
  },
  {
   "cell_type": "code",
   "execution_count": 69,
   "id": "24d9bdfa",
   "metadata": {},
   "outputs": [
    {
     "data": {
      "text/plain": [
       "(17, 12)"
      ]
     },
     "execution_count": 69,
     "metadata": {},
     "output_type": "execute_result"
    }
   ],
   "source": [
    "df2.shape"
   ]
  },
  {
   "cell_type": "code",
   "execution_count": 70,
   "id": "a7456c36",
   "metadata": {},
   "outputs": [
    {
     "data": {
      "text/plain": [
       "(10, 12)"
      ]
     },
     "execution_count": 70,
     "metadata": {},
     "output_type": "execute_result"
    }
   ],
   "source": [
    "df4 = df2[~(df2.carpet_area/df2.bhk<100)]\n",
    "df4.shape"
   ]
  },
  {
   "cell_type": "markdown",
   "id": "f8a51b4d",
   "metadata": {},
   "source": [
    "# Outlier Removal Using Standard Deviation and Mean"
   ]
  },
  {
   "cell_type": "code",
   "execution_count": 71,
   "id": "53651e2d",
   "metadata": {},
   "outputs": [
    {
     "data": {
      "text/plain": [
       "count    1.000000e+01\n",
       "mean     6.199946e+06\n",
       "std      6.690545e+05\n",
       "min      5.300000e+06\n",
       "25%      5.594662e+06\n",
       "50%      6.299782e+06\n",
       "75%      6.837350e+06\n",
       "max      6.999512e+06\n",
       "Name: price, dtype: float64"
      ]
     },
     "execution_count": 71,
     "metadata": {},
     "output_type": "execute_result"
    }
   ],
   "source": [
    "df4.price.describe()"
   ]
  },
  {
   "cell_type": "code",
   "execution_count": 72,
   "id": "20cfc634",
   "metadata": {},
   "outputs": [
    {
     "data": {
      "text/plain": [
       "(5, 12)"
      ]
     },
     "execution_count": 72,
     "metadata": {},
     "output_type": "execute_result"
    }
   ],
   "source": [
    "def remove_pps_outliers(df):\n",
    "    df_out = pd.DataFrame()\n",
    "    for key, subdf in df.groupby('location'):\n",
    "        m = np.mean(df.price)\n",
    "        st = np.std(subdf.price)\n",
    "        reduced_df = subdf[(subdf.price>(m-st)) & (subdf.price<=(m+st))]\n",
    "        df_out = pd.concat([df_out,reduced_df],ignore_index=True)\n",
    "    return df_out\n",
    "df7 = remove_pps_outliers(df4)\n",
    "df7.shape"
   ]
  },
  {
   "cell_type": "raw",
   "id": "60b6b1af",
   "metadata": {},
   "source": [
    "Let's check if for a given location how does the 2 BHK and 3 BHK property prices look like"
   ]
  },
  {
   "cell_type": "code",
   "execution_count": 90,
   "id": "b97346a6",
   "metadata": {},
   "outputs": [
    {
     "data": {
      "image/png": "[encoded data removed]",
      "text/plain": [
       "<Figure size 800x400 with 1 Axes>"
      ]
     },
     "metadata": {},
     "output_type": "display_data"
    }
   ],
   "source": [
    "def plot_scatter_chart(df5,location):\n",
    "    bhk2 = df5[(df5.location==location) & (df5.bhk==2)]\n",
    "    bhk3 = df5[(df5.location==location) & (df5.bhk==3)]\n",
    "    matplotlib.rcParams['figure.figsize'] = (8,4)\n",
    "    plt.scatter(bhk2.carpet_area,bhk2.price,color='blue',label='2 BHK', s=50)\n",
    "    plt.scatter(bhk3.carpet_area,bhk3.price,marker='+', color='green',label='3 BHK', s=50)\n",
    "    plt.xlabel(\"Total Square Feet Area\")\n",
    "    plt.ylabel(\"Price (Lakh Indian Rupees)\")\n",
    "    plt.title(location)\n",
    "    plt.legend()\n",
    "    \n",
    "plot_scatter_chart(df7,\"Bhumkar Nagar\")"
   ]
  },
  {
   "cell_type": "code",
   "execution_count": 89,
   "id": "bb549483",
   "metadata": {},
   "outputs": [
    {
     "data": {
      "image/png": "[encoded data removed]",
      "text/plain": [
       "<Figure size 800x400 with 1 Axes>"
      ]
     },
     "metadata": {},
     "output_type": "display_data"
    }
   ],
   "source": [
    "plot_scatter_chart(df7,\"Hinjewadi\")"
   ]
  },
  {
   "cell_type": "code",
   "execution_count": 95,
   "id": "d08bae62",
   "metadata": {},
   "outputs": [
    {
     "data": {
      "text/plain": [
       "(5, 12)"
      ]
     },
     "execution_count": 95,
     "metadata": {},
     "output_type": "execute_result"
    }
   ],
   "source": [
    "def remove_bhk_outliers(df):\n",
    "    exclude_indices = np.array([])\n",
    "    for location, location_df in df.groupby('location'):\n",
    "        bhk_stats = {}\n",
    "        for bhk, bhk_df in location_df.groupby('bhk'):\n",
    "            bhk_stats[bhk] = {\n",
    "                'mean': np.mean(bhk_df.price),\n",
    "                'std': np.std(bhk_df.price),\n",
    "                'count': bhk_df.shape[0]\n",
    "            }\n",
    "        for bhk, bhk_df in location_df.groupby('bhk'):\n",
    "            stats = bhk_stats.get(bhk-1)\n",
    "            if stats and stats['count']>5:\n",
    "                exclude_indices = np.append(exclude_indices, bhk_df[bhk_df.price<(stats['mean'])].index.values)\n",
    "    return df.drop(exclude_indices,axis='index')\n",
    "df8 = remove_bhk_outliers(df7)\n",
    "# df8 = df7.copy()\n",
    "df8.shape"
   ]
  },
  {
   "cell_type": "code",
   "execution_count": 96,
   "id": "05423138",
   "metadata": {},
   "outputs": [
    {
     "data": {
      "image/png": "[encoded data removed]",
      "text/plain": [
       "<Figure size 800x400 with 1 Axes>"
      ]
     },
     "metadata": {},
     "output_type": "display_data"
    }
   ],
   "source": [
    "plot_scatter_chart(df8,\"Bhumkar Nagar\")"
   ]
  },
  {
   "cell_type": "code",
   "execution_count": 97,
   "id": "6cc58300",
   "metadata": {},
   "outputs": [
    {
     "data": {
      "image/png": "[encoded data removed]",
      "text/plain": [
       "<Figure size 800x400 with 1 Axes>"
      ]
     },
     "metadata": {},
     "output_type": "display_data"
    }
   ],
   "source": [
    "plot_scatter_chart(df8,\"Hinjewadi\")"
   ]
  },
  {
   "cell_type": "code",
   "execution_count": 98,
   "id": "aef77d23",
   "metadata": {},
   "outputs": [
    {
     "data": {
      "image/png": "[encoded data removed]",
      "text/plain": [
       "<Figure size 800x400 with 1 Axes>"
      ]
     },
     "metadata": {},
     "output_type": "display_data"
    }
   ],
   "source": [
    "plt.hist(df8.price,rwidth=0.8)\n",
    "plt.xlabel(\"Price\")\n",
    "plt.ylabel(\"Count\")\n",
    "plt.show()"
   ]
  },
  {
   "cell_type": "markdown",
   "id": "4ae911d8",
   "metadata": {},
   "source": [
    "# Outlier Removal Using total_floors Feature"
   ]
  },
  {
   "cell_type": "code",
   "execution_count": 110,
   "id": "61162aa8",
   "metadata": {},
   "outputs": [
    {
     "data": {
      "text/plain": [
       "0    12\n",
       "1    12\n",
       "2    11\n",
       "3    11\n",
       "4    14\n",
       "Name: total_floors, dtype: int64"
      ]
     },
     "execution_count": 110,
     "metadata": {},
     "output_type": "execute_result"
    }
   ],
   "source": [
    "df8.total_floors"
   ]
  },
  {
   "cell_type": "code",
   "execution_count": 115,
   "id": "f503dfb6",
   "metadata": {},
   "outputs": [
    {
     "data": {
      "image/png": "[encoded data removed]",
      "text/plain": [
       "<Figure size 800x400 with 1 Axes>"
      ]
     },
     "metadata": {},
     "output_type": "display_data"
    }
   ],
   "source": [
    "plt.hist(df8.total_floors,rwidth=8)\n",
    "plt.xlabel(\"Number of total_floors\")\n",
    "plt.ylabel(\"Count\")\n",
    "plt.show()"
   ]
  },
  {
   "cell_type": "code",
   "execution_count": 116,
   "id": "8f0ad80a",
   "metadata": {},
   "outputs": [
    {
     "data": {
      "text/html": [
       "<div>\n",
       "<style scoped>\n",
       "    .dataframe tbody tr th:only-of-type {\n",
       "        vertical-align: middle;\n",
       "    }\n",
       "\n",
       "    .dataframe tbody tr th {\n",
       "        vertical-align: top;\n",
       "    }\n",
       "\n",
       "    .dataframe thead th {\n",
       "        text-align: right;\n",
       "    }\n",
       "</style>\n",
       "<table border=\"1\" class=\"dataframe\">\n",
       "  <thead>\n",
       "    <tr style=\"text-align: right;\">\n",
       "      <th></th>\n",
       "      <th>project</th>\n",
       "      <th>location</th>\n",
       "      <th>bhk</th>\n",
       "      <th>total_floors</th>\n",
       "      <th>carpet_area</th>\n",
       "      <th>super_area</th>\n",
       "      <th>price</th>\n",
       "      <th>rate</th>\n",
       "      <th>Linear_Regression</th>\n",
       "      <th>Random_Forest</th>\n",
       "      <th>Decision_Tree</th>\n",
       "      <th>Gradient_Boosting</th>\n",
       "    </tr>\n",
       "  </thead>\n",
       "  <tbody>\n",
       "    <tr>\n",
       "      <th>0</th>\n",
       "      <td>5 Star Royal Entrada</td>\n",
       "      <td>Wakad</td>\n",
       "      <td>2</td>\n",
       "      <td>12</td>\n",
       "      <td>800.0</td>\n",
       "      <td>0</td>\n",
       "      <td>6500000</td>\n",
       "      <td>8125.000000</td>\n",
       "      <td>6062.893599</td>\n",
       "      <td>6587.658950</td>\n",
       "      <td>6569.112132</td>\n",
       "      <td>4123.087637</td>\n",
       "    </tr>\n",
       "    <tr>\n",
       "      <th>1</th>\n",
       "      <td>The Royal Mirage</td>\n",
       "      <td>Wakad</td>\n",
       "      <td>2</td>\n",
       "      <td>12</td>\n",
       "      <td>730.0</td>\n",
       "      <td>0</td>\n",
       "      <td>6199890</td>\n",
       "      <td>8493.000000</td>\n",
       "      <td>5792.511819</td>\n",
       "      <td>6625.170206</td>\n",
       "      <td>6569.112132</td>\n",
       "      <td>4870.961077</td>\n",
       "    </tr>\n",
       "    <tr>\n",
       "      <th>2</th>\n",
       "      <td>Yashada Splendid Radiance</td>\n",
       "      <td>Wakad</td>\n",
       "      <td>2</td>\n",
       "      <td>11</td>\n",
       "      <td>646.0</td>\n",
       "      <td>0</td>\n",
       "      <td>5724206</td>\n",
       "      <td>8861.000000</td>\n",
       "      <td>5698.607643</td>\n",
       "      <td>6631.956212</td>\n",
       "      <td>6569.112132</td>\n",
       "      <td>4787.693115</td>\n",
       "    </tr>\n",
       "    <tr>\n",
       "      <th>3</th>\n",
       "      <td>Rohan Prathama</td>\n",
       "      <td>other</td>\n",
       "      <td>2</td>\n",
       "      <td>11</td>\n",
       "      <td>620.0</td>\n",
       "      <td>0</td>\n",
       "      <td>5551480</td>\n",
       "      <td>8954.000000</td>\n",
       "      <td>6063.568673</td>\n",
       "      <td>5722.917749</td>\n",
       "      <td>5618.492443</td>\n",
       "      <td>4264.542797</td>\n",
       "    </tr>\n",
       "    <tr>\n",
       "      <th>4</th>\n",
       "      <td>Saarrthi Savvy Homes</td>\n",
       "      <td>other</td>\n",
       "      <td>2</td>\n",
       "      <td>14</td>\n",
       "      <td>712.0</td>\n",
       "      <td>0</td>\n",
       "      <td>6399675</td>\n",
       "      <td>8988.307584</td>\n",
       "      <td>6217.673335</td>\n",
       "      <td>5717.967549</td>\n",
       "      <td>5618.492443</td>\n",
       "      <td>3940.912986</td>\n",
       "    </tr>\n",
       "  </tbody>\n",
       "</table>\n",
       "</div>"
      ],
      "text/plain": [
       "                     project location  bhk  total_floors  carpet_area  \\\n",
       "0       5 Star Royal Entrada    Wakad    2            12        800.0   \n",
       "1           The Royal Mirage    Wakad    2            12        730.0   \n",
       "2  Yashada Splendid Radiance    Wakad    2            11        646.0   \n",
       "3             Rohan Prathama    other    2            11        620.0   \n",
       "4       Saarrthi Savvy Homes    other    2            14        712.0   \n",
       "\n",
       "   super_area    price        rate   Linear_Regression  Random_Forest  \\\n",
       "0           0  6500000  8125.000000        6062.893599    6587.658950   \n",
       "1           0  6199890  8493.000000        5792.511819    6625.170206   \n",
       "2           0  5724206  8861.000000        5698.607643    6631.956212   \n",
       "3           0  5551480  8954.000000        6063.568673    5722.917749   \n",
       "4           0  6399675  8988.307584        6217.673335    5717.967549   \n",
       "\n",
       "   Decision_Tree  Gradient_Boosting  \n",
       "0    6569.112132        4123.087637  \n",
       "1    6569.112132        4870.961077  \n",
       "2    6569.112132        4787.693115  \n",
       "3    5618.492443        4264.542797  \n",
       "4    5618.492443        3940.912986  "
      ]
     },
     "execution_count": 116,
     "metadata": {},
     "output_type": "execute_result"
    }
   ],
   "source": [
    "df8[df8.total_floors>10]"
   ]
  },
  {
   "cell_type": "code",
   "execution_count": 117,
   "id": "f272c80c",
   "metadata": {},
   "outputs": [
    {
     "data": {
      "text/html": [
       "<div>\n",
       "<style scoped>\n",
       "    .dataframe tbody tr th:only-of-type {\n",
       "        vertical-align: middle;\n",
       "    }\n",
       "\n",
       "    .dataframe tbody tr th {\n",
       "        vertical-align: top;\n",
       "    }\n",
       "\n",
       "    .dataframe thead th {\n",
       "        text-align: right;\n",
       "    }\n",
       "</style>\n",
       "<table border=\"1\" class=\"dataframe\">\n",
       "  <thead>\n",
       "    <tr style=\"text-align: right;\">\n",
       "      <th></th>\n",
       "      <th>project</th>\n",
       "      <th>location</th>\n",
       "      <th>bhk</th>\n",
       "      <th>total_floors</th>\n",
       "      <th>carpet_area</th>\n",
       "      <th>super_area</th>\n",
       "      <th>price</th>\n",
       "      <th>rate</th>\n",
       "      <th>Linear_Regression</th>\n",
       "      <th>Random_Forest</th>\n",
       "      <th>Decision_Tree</th>\n",
       "      <th>Gradient_Boosting</th>\n",
       "    </tr>\n",
       "  </thead>\n",
       "  <tbody>\n",
       "    <tr>\n",
       "      <th>0</th>\n",
       "      <td>5 Star Royal Entrada</td>\n",
       "      <td>Wakad</td>\n",
       "      <td>2</td>\n",
       "      <td>12</td>\n",
       "      <td>800.0</td>\n",
       "      <td>0</td>\n",
       "      <td>6500000</td>\n",
       "      <td>8125.000000</td>\n",
       "      <td>6062.893599</td>\n",
       "      <td>6587.658950</td>\n",
       "      <td>6569.112132</td>\n",
       "      <td>4123.087637</td>\n",
       "    </tr>\n",
       "    <tr>\n",
       "      <th>1</th>\n",
       "      <td>The Royal Mirage</td>\n",
       "      <td>Wakad</td>\n",
       "      <td>2</td>\n",
       "      <td>12</td>\n",
       "      <td>730.0</td>\n",
       "      <td>0</td>\n",
       "      <td>6199890</td>\n",
       "      <td>8493.000000</td>\n",
       "      <td>5792.511819</td>\n",
       "      <td>6625.170206</td>\n",
       "      <td>6569.112132</td>\n",
       "      <td>4870.961077</td>\n",
       "    </tr>\n",
       "    <tr>\n",
       "      <th>2</th>\n",
       "      <td>Yashada Splendid Radiance</td>\n",
       "      <td>Wakad</td>\n",
       "      <td>2</td>\n",
       "      <td>11</td>\n",
       "      <td>646.0</td>\n",
       "      <td>0</td>\n",
       "      <td>5724206</td>\n",
       "      <td>8861.000000</td>\n",
       "      <td>5698.607643</td>\n",
       "      <td>6631.956212</td>\n",
       "      <td>6569.112132</td>\n",
       "      <td>4787.693115</td>\n",
       "    </tr>\n",
       "    <tr>\n",
       "      <th>3</th>\n",
       "      <td>Rohan Prathama</td>\n",
       "      <td>other</td>\n",
       "      <td>2</td>\n",
       "      <td>11</td>\n",
       "      <td>620.0</td>\n",
       "      <td>0</td>\n",
       "      <td>5551480</td>\n",
       "      <td>8954.000000</td>\n",
       "      <td>6063.568673</td>\n",
       "      <td>5722.917749</td>\n",
       "      <td>5618.492443</td>\n",
       "      <td>4264.542797</td>\n",
       "    </tr>\n",
       "    <tr>\n",
       "      <th>4</th>\n",
       "      <td>Saarrthi Savvy Homes</td>\n",
       "      <td>other</td>\n",
       "      <td>2</td>\n",
       "      <td>14</td>\n",
       "      <td>712.0</td>\n",
       "      <td>0</td>\n",
       "      <td>6399675</td>\n",
       "      <td>8988.307584</td>\n",
       "      <td>6217.673335</td>\n",
       "      <td>5717.967549</td>\n",
       "      <td>5618.492443</td>\n",
       "      <td>3940.912986</td>\n",
       "    </tr>\n",
       "  </tbody>\n",
       "</table>\n",
       "</div>"
      ],
      "text/plain": [
       "                     project location  bhk  total_floors  carpet_area  \\\n",
       "0       5 Star Royal Entrada    Wakad    2            12        800.0   \n",
       "1           The Royal Mirage    Wakad    2            12        730.0   \n",
       "2  Yashada Splendid Radiance    Wakad    2            11        646.0   \n",
       "3             Rohan Prathama    other    2            11        620.0   \n",
       "4       Saarrthi Savvy Homes    other    2            14        712.0   \n",
       "\n",
       "   super_area    price        rate   Linear_Regression  Random_Forest  \\\n",
       "0           0  6500000  8125.000000        6062.893599    6587.658950   \n",
       "1           0  6199890  8493.000000        5792.511819    6625.170206   \n",
       "2           0  5724206  8861.000000        5698.607643    6631.956212   \n",
       "3           0  5551480  8954.000000        6063.568673    5722.917749   \n",
       "4           0  6399675  8988.307584        6217.673335    5717.967549   \n",
       "\n",
       "   Decision_Tree  Gradient_Boosting  \n",
       "0    6569.112132        4123.087637  \n",
       "1    6569.112132        4870.961077  \n",
       "2    6569.112132        4787.693115  \n",
       "3    5618.492443        4264.542797  \n",
       "4    5618.492443        3940.912986  "
      ]
     },
     "execution_count": 117,
     "metadata": {},
     "output_type": "execute_result"
    }
   ],
   "source": [
    "df8[df8.total_floors>df8.bhk+2]"
   ]
  },
  {
   "cell_type": "code",
   "execution_count": 118,
   "id": "6aef9df6",
   "metadata": {},
   "outputs": [
    {
     "data": {
      "text/plain": [
       "(0, 12)"
      ]
     },
     "execution_count": 118,
     "metadata": {},
     "output_type": "execute_result"
    }
   ],
   "source": [
    "df9 = df8[df8.total_floors<df8.bhk+2]\n",
    "df9.shape"
   ]
  },
  {
   "cell_type": "code",
   "execution_count": 121,
   "id": "ce1983aa",
   "metadata": {},
   "outputs": [
    {
     "data": {
      "text/html": [
       "<div>\n",
       "<style scoped>\n",
       "    .dataframe tbody tr th:only-of-type {\n",
       "        vertical-align: middle;\n",
       "    }\n",
       "\n",
       "    .dataframe tbody tr th {\n",
       "        vertical-align: top;\n",
       "    }\n",
       "\n",
       "    .dataframe thead th {\n",
       "        text-align: right;\n",
       "    }\n",
       "</style>\n",
       "<table border=\"1\" class=\"dataframe\">\n",
       "  <thead>\n",
       "    <tr style=\"text-align: right;\">\n",
       "      <th></th>\n",
       "      <th>project</th>\n",
       "      <th>location</th>\n",
       "      <th>bhk</th>\n",
       "      <th>total_floors</th>\n",
       "      <th>carpet_area</th>\n",
       "      <th>super_area</th>\n",
       "      <th>price</th>\n",
       "      <th>rate</th>\n",
       "      <th>Linear_Regression</th>\n",
       "      <th>Random_Forest</th>\n",
       "      <th>Decision_Tree</th>\n",
       "      <th>Gradient_Boosting</th>\n",
       "    </tr>\n",
       "  </thead>\n",
       "  <tbody>\n",
       "  </tbody>\n",
       "</table>\n",
       "</div>"
      ],
      "text/plain": [
       "Empty DataFrame\n",
       "Columns: [project, location, bhk, total_floors, carpet_area, super_area, price, rate , Linear_Regression, Random_Forest, Decision_Tree, Gradient_Boosting]\n",
       "Index: []"
      ]
     },
     "execution_count": 121,
     "metadata": {},
     "output_type": "execute_result"
    }
   ],
   "source": [
    "df9.head(1)"
   ]
  },
  {
   "cell_type": "code",
   "execution_count": 130,
   "id": "7b89ec0f",
   "metadata": {},
   "outputs": [],
   "source": [
    "df10 = df8.drop(['Decision_Tree'],axis=1)"
   ]
  },
  {
   "cell_type": "code",
   "execution_count": 132,
   "id": "39dba17b",
   "metadata": {},
   "outputs": [
    {
     "data": {
      "text/html": [
       "<div>\n",
       "<style scoped>\n",
       "    .dataframe tbody tr th:only-of-type {\n",
       "        vertical-align: middle;\n",
       "    }\n",
       "\n",
       "    .dataframe tbody tr th {\n",
       "        vertical-align: top;\n",
       "    }\n",
       "\n",
       "    .dataframe thead th {\n",
       "        text-align: right;\n",
       "    }\n",
       "</style>\n",
       "<table border=\"1\" class=\"dataframe\">\n",
       "  <thead>\n",
       "    <tr style=\"text-align: right;\">\n",
       "      <th></th>\n",
       "      <th>project</th>\n",
       "      <th>location</th>\n",
       "      <th>bhk</th>\n",
       "      <th>total_floors</th>\n",
       "      <th>carpet_area</th>\n",
       "      <th>super_area</th>\n",
       "      <th>price</th>\n",
       "      <th>rate</th>\n",
       "      <th>Linear_Regression</th>\n",
       "      <th>Random_Forest</th>\n",
       "      <th>Gradient_Boosting</th>\n",
       "    </tr>\n",
       "  </thead>\n",
       "  <tbody>\n",
       "    <tr>\n",
       "      <th>0</th>\n",
       "      <td>5 Star Royal Entrada</td>\n",
       "      <td>Wakad</td>\n",
       "      <td>2</td>\n",
       "      <td>12</td>\n",
       "      <td>800.0</td>\n",
       "      <td>0</td>\n",
       "      <td>6500000</td>\n",
       "      <td>8125.0</td>\n",
       "      <td>6062.893599</td>\n",
       "      <td>6587.658950</td>\n",
       "      <td>4123.087637</td>\n",
       "    </tr>\n",
       "    <tr>\n",
       "      <th>1</th>\n",
       "      <td>The Royal Mirage</td>\n",
       "      <td>Wakad</td>\n",
       "      <td>2</td>\n",
       "      <td>12</td>\n",
       "      <td>730.0</td>\n",
       "      <td>0</td>\n",
       "      <td>6199890</td>\n",
       "      <td>8493.0</td>\n",
       "      <td>5792.511819</td>\n",
       "      <td>6625.170206</td>\n",
       "      <td>4870.961077</td>\n",
       "    </tr>\n",
       "    <tr>\n",
       "      <th>2</th>\n",
       "      <td>Yashada Splendid Radiance</td>\n",
       "      <td>Wakad</td>\n",
       "      <td>2</td>\n",
       "      <td>11</td>\n",
       "      <td>646.0</td>\n",
       "      <td>0</td>\n",
       "      <td>5724206</td>\n",
       "      <td>8861.0</td>\n",
       "      <td>5698.607643</td>\n",
       "      <td>6631.956212</td>\n",
       "      <td>4787.693115</td>\n",
       "    </tr>\n",
       "  </tbody>\n",
       "</table>\n",
       "</div>"
      ],
      "text/plain": [
       "                     project location  bhk  total_floors  carpet_area  \\\n",
       "0       5 Star Royal Entrada    Wakad    2            12        800.0   \n",
       "1           The Royal Mirage    Wakad    2            12        730.0   \n",
       "2  Yashada Splendid Radiance    Wakad    2            11        646.0   \n",
       "\n",
       "   super_area    price   rate   Linear_Regression  Random_Forest  \\\n",
       "0           0  6500000  8125.0        6062.893599    6587.658950   \n",
       "1           0  6199890  8493.0        5792.511819    6625.170206   \n",
       "2           0  5724206  8861.0        5698.607643    6631.956212   \n",
       "\n",
       "   Gradient_Boosting  \n",
       "0        4123.087637  \n",
       "1        4870.961077  \n",
       "2        4787.693115  "
      ]
     },
     "execution_count": 132,
     "metadata": {},
     "output_type": "execute_result"
    }
   ],
   "source": [
    "df10.head(3)"
   ]
  },
  {
   "cell_type": "markdown",
   "id": "347f5740",
   "metadata": {},
   "source": [
    "# Use One Hot Encoding For Location"
   ]
  },
  {
   "cell_type": "code",
   "execution_count": 133,
   "id": "60f09ac6",
   "metadata": {},
   "outputs": [],
   "source": [
    "dummies = pd.get_dummies(df10.location)"
   ]
  },
  {
   "cell_type": "code",
   "execution_count": 134,
   "id": "ff6a6f89",
   "metadata": {},
   "outputs": [
    {
     "data": {
      "text/html": [
       "<div>\n",
       "<style scoped>\n",
       "    .dataframe tbody tr th:only-of-type {\n",
       "        vertical-align: middle;\n",
       "    }\n",
       "\n",
       "    .dataframe tbody tr th {\n",
       "        vertical-align: top;\n",
       "    }\n",
       "\n",
       "    .dataframe thead th {\n",
       "        text-align: right;\n",
       "    }\n",
       "</style>\n",
       "<table border=\"1\" class=\"dataframe\">\n",
       "  <thead>\n",
       "    <tr style=\"text-align: right;\">\n",
       "      <th></th>\n",
       "      <th>Wakad</th>\n",
       "      <th>other</th>\n",
       "    </tr>\n",
       "  </thead>\n",
       "  <tbody>\n",
       "    <tr>\n",
       "      <th>0</th>\n",
       "      <td>True</td>\n",
       "      <td>False</td>\n",
       "    </tr>\n",
       "    <tr>\n",
       "      <th>1</th>\n",
       "      <td>True</td>\n",
       "      <td>False</td>\n",
       "    </tr>\n",
       "    <tr>\n",
       "      <th>2</th>\n",
       "      <td>True</td>\n",
       "      <td>False</td>\n",
       "    </tr>\n",
       "    <tr>\n",
       "      <th>3</th>\n",
       "      <td>False</td>\n",
       "      <td>True</td>\n",
       "    </tr>\n",
       "    <tr>\n",
       "      <th>4</th>\n",
       "      <td>False</td>\n",
       "      <td>True</td>\n",
       "    </tr>\n",
       "  </tbody>\n",
       "</table>\n",
       "</div>"
      ],
      "text/plain": [
       "   Wakad  other\n",
       "0   True  False\n",
       "1   True  False\n",
       "2   True  False\n",
       "3  False   True\n",
       "4  False   True"
      ]
     },
     "execution_count": 134,
     "metadata": {},
     "output_type": "execute_result"
    }
   ],
   "source": [
    "dummies.head(5)"
   ]
  },
  {
   "cell_type": "code",
   "execution_count": 135,
   "id": "22bdca14",
   "metadata": {},
   "outputs": [
    {
     "data": {
      "text/html": [
       "<div>\n",
       "<style scoped>\n",
       "    .dataframe tbody tr th:only-of-type {\n",
       "        vertical-align: middle;\n",
       "    }\n",
       "\n",
       "    .dataframe tbody tr th {\n",
       "        vertical-align: top;\n",
       "    }\n",
       "\n",
       "    .dataframe thead th {\n",
       "        text-align: right;\n",
       "    }\n",
       "</style>\n",
       "<table border=\"1\" class=\"dataframe\">\n",
       "  <thead>\n",
       "    <tr style=\"text-align: right;\">\n",
       "      <th></th>\n",
       "      <th>project</th>\n",
       "      <th>location</th>\n",
       "      <th>bhk</th>\n",
       "      <th>total_floors</th>\n",
       "      <th>carpet_area</th>\n",
       "      <th>super_area</th>\n",
       "      <th>price</th>\n",
       "      <th>rate</th>\n",
       "      <th>Linear_Regression</th>\n",
       "      <th>Random_Forest</th>\n",
       "      <th>Gradient_Boosting</th>\n",
       "      <th>Wakad</th>\n",
       "    </tr>\n",
       "  </thead>\n",
       "  <tbody>\n",
       "    <tr>\n",
       "      <th>0</th>\n",
       "      <td>5 Star Royal Entrada</td>\n",
       "      <td>Wakad</td>\n",
       "      <td>2</td>\n",
       "      <td>12</td>\n",
       "      <td>800.0</td>\n",
       "      <td>0</td>\n",
       "      <td>6500000</td>\n",
       "      <td>8125.000000</td>\n",
       "      <td>6062.893599</td>\n",
       "      <td>6587.658950</td>\n",
       "      <td>4123.087637</td>\n",
       "      <td>True</td>\n",
       "    </tr>\n",
       "    <tr>\n",
       "      <th>1</th>\n",
       "      <td>The Royal Mirage</td>\n",
       "      <td>Wakad</td>\n",
       "      <td>2</td>\n",
       "      <td>12</td>\n",
       "      <td>730.0</td>\n",
       "      <td>0</td>\n",
       "      <td>6199890</td>\n",
       "      <td>8493.000000</td>\n",
       "      <td>5792.511819</td>\n",
       "      <td>6625.170206</td>\n",
       "      <td>4870.961077</td>\n",
       "      <td>True</td>\n",
       "    </tr>\n",
       "    <tr>\n",
       "      <th>2</th>\n",
       "      <td>Yashada Splendid Radiance</td>\n",
       "      <td>Wakad</td>\n",
       "      <td>2</td>\n",
       "      <td>11</td>\n",
       "      <td>646.0</td>\n",
       "      <td>0</td>\n",
       "      <td>5724206</td>\n",
       "      <td>8861.000000</td>\n",
       "      <td>5698.607643</td>\n",
       "      <td>6631.956212</td>\n",
       "      <td>4787.693115</td>\n",
       "      <td>True</td>\n",
       "    </tr>\n",
       "    <tr>\n",
       "      <th>3</th>\n",
       "      <td>Rohan Prathama</td>\n",
       "      <td>other</td>\n",
       "      <td>2</td>\n",
       "      <td>11</td>\n",
       "      <td>620.0</td>\n",
       "      <td>0</td>\n",
       "      <td>5551480</td>\n",
       "      <td>8954.000000</td>\n",
       "      <td>6063.568673</td>\n",
       "      <td>5722.917749</td>\n",
       "      <td>4264.542797</td>\n",
       "      <td>False</td>\n",
       "    </tr>\n",
       "    <tr>\n",
       "      <th>4</th>\n",
       "      <td>Saarrthi Savvy Homes</td>\n",
       "      <td>other</td>\n",
       "      <td>2</td>\n",
       "      <td>14</td>\n",
       "      <td>712.0</td>\n",
       "      <td>0</td>\n",
       "      <td>6399675</td>\n",
       "      <td>8988.307584</td>\n",
       "      <td>6217.673335</td>\n",
       "      <td>5717.967549</td>\n",
       "      <td>3940.912986</td>\n",
       "      <td>False</td>\n",
       "    </tr>\n",
       "  </tbody>\n",
       "</table>\n",
       "</div>"
      ],
      "text/plain": [
       "                     project location  bhk  total_floors  carpet_area  \\\n",
       "0       5 Star Royal Entrada    Wakad    2            12        800.0   \n",
       "1           The Royal Mirage    Wakad    2            12        730.0   \n",
       "2  Yashada Splendid Radiance    Wakad    2            11        646.0   \n",
       "3             Rohan Prathama    other    2            11        620.0   \n",
       "4       Saarrthi Savvy Homes    other    2            14        712.0   \n",
       "\n",
       "   super_area    price        rate   Linear_Regression  Random_Forest  \\\n",
       "0           0  6500000  8125.000000        6062.893599    6587.658950   \n",
       "1           0  6199890  8493.000000        5792.511819    6625.170206   \n",
       "2           0  5724206  8861.000000        5698.607643    6631.956212   \n",
       "3           0  5551480  8954.000000        6063.568673    5722.917749   \n",
       "4           0  6399675  8988.307584        6217.673335    5717.967549   \n",
       "\n",
       "   Gradient_Boosting  Wakad  \n",
       "0        4123.087637   True  \n",
       "1        4870.961077   True  \n",
       "2        4787.693115   True  \n",
       "3        4264.542797  False  \n",
       "4        3940.912986  False  "
      ]
     },
     "execution_count": 135,
     "metadata": {},
     "output_type": "execute_result"
    }
   ],
   "source": [
    "df11 = pd.concat([df10,dummies.drop('other',axis='columns')],axis='columns')\n",
    "df11.head()"
   ]
  },
  {
   "cell_type": "code",
   "execution_count": 136,
   "id": "8f9b6e29",
   "metadata": {},
   "outputs": [
    {
     "data": {
      "text/html": [
       "<div>\n",
       "<style scoped>\n",
       "    .dataframe tbody tr th:only-of-type {\n",
       "        vertical-align: middle;\n",
       "    }\n",
       "\n",
       "    .dataframe tbody tr th {\n",
       "        vertical-align: top;\n",
       "    }\n",
       "\n",
       "    .dataframe thead th {\n",
       "        text-align: right;\n",
       "    }\n",
       "</style>\n",
       "<table border=\"1\" class=\"dataframe\">\n",
       "  <thead>\n",
       "    <tr style=\"text-align: right;\">\n",
       "      <th></th>\n",
       "      <th>project</th>\n",
       "      <th>bhk</th>\n",
       "      <th>total_floors</th>\n",
       "      <th>carpet_area</th>\n",
       "      <th>super_area</th>\n",
       "      <th>price</th>\n",
       "      <th>rate</th>\n",
       "      <th>Linear_Regression</th>\n",
       "      <th>Random_Forest</th>\n",
       "      <th>Gradient_Boosting</th>\n",
       "      <th>Wakad</th>\n",
       "    </tr>\n",
       "  </thead>\n",
       "  <tbody>\n",
       "    <tr>\n",
       "      <th>0</th>\n",
       "      <td>5 Star Royal Entrada</td>\n",
       "      <td>2</td>\n",
       "      <td>12</td>\n",
       "      <td>800.0</td>\n",
       "      <td>0</td>\n",
       "      <td>6500000</td>\n",
       "      <td>8125.000000</td>\n",
       "      <td>6062.893599</td>\n",
       "      <td>6587.658950</td>\n",
       "      <td>4123.087637</td>\n",
       "      <td>True</td>\n",
       "    </tr>\n",
       "    <tr>\n",
       "      <th>1</th>\n",
       "      <td>The Royal Mirage</td>\n",
       "      <td>2</td>\n",
       "      <td>12</td>\n",
       "      <td>730.0</td>\n",
       "      <td>0</td>\n",
       "      <td>6199890</td>\n",
       "      <td>8493.000000</td>\n",
       "      <td>5792.511819</td>\n",
       "      <td>6625.170206</td>\n",
       "      <td>4870.961077</td>\n",
       "      <td>True</td>\n",
       "    </tr>\n",
       "    <tr>\n",
       "      <th>2</th>\n",
       "      <td>Yashada Splendid Radiance</td>\n",
       "      <td>2</td>\n",
       "      <td>11</td>\n",
       "      <td>646.0</td>\n",
       "      <td>0</td>\n",
       "      <td>5724206</td>\n",
       "      <td>8861.000000</td>\n",
       "      <td>5698.607643</td>\n",
       "      <td>6631.956212</td>\n",
       "      <td>4787.693115</td>\n",
       "      <td>True</td>\n",
       "    </tr>\n",
       "    <tr>\n",
       "      <th>3</th>\n",
       "      <td>Rohan Prathama</td>\n",
       "      <td>2</td>\n",
       "      <td>11</td>\n",
       "      <td>620.0</td>\n",
       "      <td>0</td>\n",
       "      <td>5551480</td>\n",
       "      <td>8954.000000</td>\n",
       "      <td>6063.568673</td>\n",
       "      <td>5722.917749</td>\n",
       "      <td>4264.542797</td>\n",
       "      <td>False</td>\n",
       "    </tr>\n",
       "    <tr>\n",
       "      <th>4</th>\n",
       "      <td>Saarrthi Savvy Homes</td>\n",
       "      <td>2</td>\n",
       "      <td>14</td>\n",
       "      <td>712.0</td>\n",
       "      <td>0</td>\n",
       "      <td>6399675</td>\n",
       "      <td>8988.307584</td>\n",
       "      <td>6217.673335</td>\n",
       "      <td>5717.967549</td>\n",
       "      <td>3940.912986</td>\n",
       "      <td>False</td>\n",
       "    </tr>\n",
       "  </tbody>\n",
       "</table>\n",
       "</div>"
      ],
      "text/plain": [
       "                     project  bhk  total_floors  carpet_area  super_area  \\\n",
       "0       5 Star Royal Entrada    2            12        800.0           0   \n",
       "1           The Royal Mirage    2            12        730.0           0   \n",
       "2  Yashada Splendid Radiance    2            11        646.0           0   \n",
       "3             Rohan Prathama    2            11        620.0           0   \n",
       "4       Saarrthi Savvy Homes    2            14        712.0           0   \n",
       "\n",
       "     price        rate   Linear_Regression  Random_Forest  Gradient_Boosting  \\\n",
       "0  6500000  8125.000000        6062.893599    6587.658950        4123.087637   \n",
       "1  6199890  8493.000000        5792.511819    6625.170206        4870.961077   \n",
       "2  5724206  8861.000000        5698.607643    6631.956212        4787.693115   \n",
       "3  5551480  8954.000000        6063.568673    5722.917749        4264.542797   \n",
       "4  6399675  8988.307584        6217.673335    5717.967549        3940.912986   \n",
       "\n",
       "   Wakad  \n",
       "0   True  \n",
       "1   True  \n",
       "2   True  \n",
       "3  False  \n",
       "4  False  "
      ]
     },
     "execution_count": 136,
     "metadata": {},
     "output_type": "execute_result"
    }
   ],
   "source": [
    "df12 = df11.drop('location',axis='columns')\n",
    "df12.head()"
   ]
  },
  {
   "cell_type": "markdown",
   "id": "ebd0d894",
   "metadata": {},
   "source": [
    "# Model Building"
   ]
  },
  {
   "cell_type": "code",
   "execution_count": 137,
   "id": "ab3b08bd",
   "metadata": {},
   "outputs": [
    {
     "data": {
      "text/plain": [
       "(5, 11)"
      ]
     },
     "execution_count": 137,
     "metadata": {},
     "output_type": "execute_result"
    }
   ],
   "source": [
    "df12.shape"
   ]
  },
  {
   "cell_type": "code",
   "execution_count": 171,
   "id": "251da494",
   "metadata": {},
   "outputs": [
    {
     "data": {
      "text/html": [
       "<div>\n",
       "<style scoped>\n",
       "    .dataframe tbody tr th:only-of-type {\n",
       "        vertical-align: middle;\n",
       "    }\n",
       "\n",
       "    .dataframe tbody tr th {\n",
       "        vertical-align: top;\n",
       "    }\n",
       "\n",
       "    .dataframe thead th {\n",
       "        text-align: right;\n",
       "    }\n",
       "</style>\n",
       "<table border=\"1\" class=\"dataframe\">\n",
       "  <thead>\n",
       "    <tr style=\"text-align: right;\">\n",
       "      <th></th>\n",
       "      <th>project</th>\n",
       "      <th>bhk</th>\n",
       "      <th>total_floors</th>\n",
       "      <th>carpet_area</th>\n",
       "      <th>super_area</th>\n",
       "      <th>price</th>\n",
       "      <th>rate</th>\n",
       "      <th>Random_Forest</th>\n",
       "      <th>Gradient_Boosting</th>\n",
       "      <th>Wakad</th>\n",
       "    </tr>\n",
       "  </thead>\n",
       "  <tbody>\n",
       "    <tr>\n",
       "      <th>0</th>\n",
       "      <td>5 Star Royal Entrada</td>\n",
       "      <td>2</td>\n",
       "      <td>12</td>\n",
       "      <td>800.0</td>\n",
       "      <td>0</td>\n",
       "      <td>6500000</td>\n",
       "      <td>8125.0</td>\n",
       "      <td>6587.658950</td>\n",
       "      <td>4123.087637</td>\n",
       "      <td>True</td>\n",
       "    </tr>\n",
       "    <tr>\n",
       "      <th>1</th>\n",
       "      <td>The Royal Mirage</td>\n",
       "      <td>2</td>\n",
       "      <td>12</td>\n",
       "      <td>730.0</td>\n",
       "      <td>0</td>\n",
       "      <td>6199890</td>\n",
       "      <td>8493.0</td>\n",
       "      <td>6625.170206</td>\n",
       "      <td>4870.961077</td>\n",
       "      <td>True</td>\n",
       "    </tr>\n",
       "    <tr>\n",
       "      <th>2</th>\n",
       "      <td>Yashada Splendid Radiance</td>\n",
       "      <td>2</td>\n",
       "      <td>11</td>\n",
       "      <td>646.0</td>\n",
       "      <td>0</td>\n",
       "      <td>5724206</td>\n",
       "      <td>8861.0</td>\n",
       "      <td>6631.956212</td>\n",
       "      <td>4787.693115</td>\n",
       "      <td>True</td>\n",
       "    </tr>\n",
       "  </tbody>\n",
       "</table>\n",
       "</div>"
      ],
      "text/plain": [
       "                     project  bhk  total_floors  carpet_area  super_area  \\\n",
       "0       5 Star Royal Entrada    2            12        800.0           0   \n",
       "1           The Royal Mirage    2            12        730.0           0   \n",
       "2  Yashada Splendid Radiance    2            11        646.0           0   \n",
       "\n",
       "     price   rate   Random_Forest  Gradient_Boosting  Wakad  \n",
       "0  6500000  8125.0    6587.658950        4123.087637   True  \n",
       "1  6199890  8493.0    6625.170206        4870.961077   True  \n",
       "2  5724206  8861.0    6631.956212        4787.693115   True  "
      ]
     },
     "execution_count": 171,
     "metadata": {},
     "output_type": "execute_result"
    }
   ],
   "source": [
    "z = df12.drop(['Linear_Regression'],axis=1)\n",
    "z.head(3)"
   ]
  },
  {
   "cell_type": "code",
   "execution_count": 182,
   "id": "4fd51c96",
   "metadata": {},
   "outputs": [],
   "source": [
    "z1 = z.drop(['project'],axis=1)"
   ]
  },
  {
   "cell_type": "code",
   "execution_count": 183,
   "id": "1c61de0d",
   "metadata": {},
   "outputs": [
    {
     "data": {
      "text/html": [
       "<div>\n",
       "<style scoped>\n",
       "    .dataframe tbody tr th:only-of-type {\n",
       "        vertical-align: middle;\n",
       "    }\n",
       "\n",
       "    .dataframe tbody tr th {\n",
       "        vertical-align: top;\n",
       "    }\n",
       "\n",
       "    .dataframe thead th {\n",
       "        text-align: right;\n",
       "    }\n",
       "</style>\n",
       "<table border=\"1\" class=\"dataframe\">\n",
       "  <thead>\n",
       "    <tr style=\"text-align: right;\">\n",
       "      <th></th>\n",
       "      <th>bhk</th>\n",
       "      <th>total_floors</th>\n",
       "      <th>carpet_area</th>\n",
       "      <th>super_area</th>\n",
       "      <th>price</th>\n",
       "      <th>rate</th>\n",
       "      <th>Random_Forest</th>\n",
       "      <th>Gradient_Boosting</th>\n",
       "      <th>Wakad</th>\n",
       "    </tr>\n",
       "  </thead>\n",
       "  <tbody>\n",
       "    <tr>\n",
       "      <th>0</th>\n",
       "      <td>2</td>\n",
       "      <td>12</td>\n",
       "      <td>800.0</td>\n",
       "      <td>0</td>\n",
       "      <td>6500000</td>\n",
       "      <td>8125.0</td>\n",
       "      <td>6587.658950</td>\n",
       "      <td>4123.087637</td>\n",
       "      <td>True</td>\n",
       "    </tr>\n",
       "    <tr>\n",
       "      <th>1</th>\n",
       "      <td>2</td>\n",
       "      <td>12</td>\n",
       "      <td>730.0</td>\n",
       "      <td>0</td>\n",
       "      <td>6199890</td>\n",
       "      <td>8493.0</td>\n",
       "      <td>6625.170206</td>\n",
       "      <td>4870.961077</td>\n",
       "      <td>True</td>\n",
       "    </tr>\n",
       "    <tr>\n",
       "      <th>2</th>\n",
       "      <td>2</td>\n",
       "      <td>11</td>\n",
       "      <td>646.0</td>\n",
       "      <td>0</td>\n",
       "      <td>5724206</td>\n",
       "      <td>8861.0</td>\n",
       "      <td>6631.956212</td>\n",
       "      <td>4787.693115</td>\n",
       "      <td>True</td>\n",
       "    </tr>\n",
       "  </tbody>\n",
       "</table>\n",
       "</div>"
      ],
      "text/plain": [
       "   bhk  total_floors  carpet_area  super_area    price   rate   Random_Forest  \\\n",
       "0    2            12        800.0           0  6500000  8125.0    6587.658950   \n",
       "1    2            12        730.0           0  6199890  8493.0    6625.170206   \n",
       "2    2            11        646.0           0  5724206  8861.0    6631.956212   \n",
       "\n",
       "   Gradient_Boosting  Wakad  \n",
       "0        4123.087637   True  \n",
       "1        4870.961077   True  \n",
       "2        4787.693115   True  "
      ]
     },
     "execution_count": 183,
     "metadata": {},
     "output_type": "execute_result"
    }
   ],
   "source": [
    "z1.head(3)"
   ]
  },
  {
   "cell_type": "code",
   "execution_count": 184,
   "id": "2b14842c",
   "metadata": {},
   "outputs": [
    {
     "data": {
      "text/html": [
       "<div>\n",
       "<style scoped>\n",
       "    .dataframe tbody tr th:only-of-type {\n",
       "        vertical-align: middle;\n",
       "    }\n",
       "\n",
       "    .dataframe tbody tr th {\n",
       "        vertical-align: top;\n",
       "    }\n",
       "\n",
       "    .dataframe thead th {\n",
       "        text-align: right;\n",
       "    }\n",
       "</style>\n",
       "<table border=\"1\" class=\"dataframe\">\n",
       "  <thead>\n",
       "    <tr style=\"text-align: right;\">\n",
       "      <th></th>\n",
       "      <th>bhk</th>\n",
       "      <th>total_floors</th>\n",
       "      <th>carpet_area</th>\n",
       "      <th>super_area</th>\n",
       "      <th>price</th>\n",
       "      <th>rate</th>\n",
       "      <th>Random_Forest</th>\n",
       "      <th>Gradient_Boosting</th>\n",
       "    </tr>\n",
       "  </thead>\n",
       "  <tbody>\n",
       "    <tr>\n",
       "      <th>0</th>\n",
       "      <td>2</td>\n",
       "      <td>12</td>\n",
       "      <td>800.0</td>\n",
       "      <td>0</td>\n",
       "      <td>6500000</td>\n",
       "      <td>8125.0</td>\n",
       "      <td>6587.658950</td>\n",
       "      <td>4123.087637</td>\n",
       "    </tr>\n",
       "    <tr>\n",
       "      <th>1</th>\n",
       "      <td>2</td>\n",
       "      <td>12</td>\n",
       "      <td>730.0</td>\n",
       "      <td>0</td>\n",
       "      <td>6199890</td>\n",
       "      <td>8493.0</td>\n",
       "      <td>6625.170206</td>\n",
       "      <td>4870.961077</td>\n",
       "    </tr>\n",
       "    <tr>\n",
       "      <th>2</th>\n",
       "      <td>2</td>\n",
       "      <td>11</td>\n",
       "      <td>646.0</td>\n",
       "      <td>0</td>\n",
       "      <td>5724206</td>\n",
       "      <td>8861.0</td>\n",
       "      <td>6631.956212</td>\n",
       "      <td>4787.693115</td>\n",
       "    </tr>\n",
       "  </tbody>\n",
       "</table>\n",
       "</div>"
      ],
      "text/plain": [
       "   bhk  total_floors  carpet_area  super_area    price   rate   Random_Forest  \\\n",
       "0    2            12        800.0           0  6500000  8125.0    6587.658950   \n",
       "1    2            12        730.0           0  6199890  8493.0    6625.170206   \n",
       "2    2            11        646.0           0  5724206  8861.0    6631.956212   \n",
       "\n",
       "   Gradient_Boosting  \n",
       "0        4123.087637  \n",
       "1        4870.961077  \n",
       "2        4787.693115  "
      ]
     },
     "execution_count": 184,
     "metadata": {},
     "output_type": "execute_result"
    }
   ],
   "source": [
    "X = z1.drop(['Wakad'],axis=1)\n",
    "X.head(3)"
   ]
  },
  {
   "cell_type": "code",
   "execution_count": 185,
   "id": "c8513d74",
   "metadata": {},
   "outputs": [
    {
     "data": {
      "text/plain": [
       "(5, 8)"
      ]
     },
     "execution_count": 185,
     "metadata": {},
     "output_type": "execute_result"
    }
   ],
   "source": [
    "X.shape"
   ]
  },
  {
   "cell_type": "code",
   "execution_count": 186,
   "id": "cc88ce61",
   "metadata": {},
   "outputs": [
    {
     "data": {
      "text/plain": [
       "bhk                    int64\n",
       "total_floors           int64\n",
       "carpet_area          float64\n",
       "super_area             int64\n",
       "price                  int64\n",
       "rate                 float64\n",
       "Random_Forest        float64\n",
       "Gradient_Boosting    float64\n",
       "dtype: object"
      ]
     },
     "execution_count": 186,
     "metadata": {},
     "output_type": "execute_result"
    }
   ],
   "source": [
    "X.dtypes"
   ]
  },
  {
   "cell_type": "code",
   "execution_count": 187,
   "id": "1b8eed66",
   "metadata": {},
   "outputs": [
    {
     "data": {
      "text/plain": [
       "0    800.0\n",
       "1    730.0\n",
       "2    646.0\n",
       "Name: carpet_area, dtype: float64"
      ]
     },
     "execution_count": 187,
     "metadata": {},
     "output_type": "execute_result"
    }
   ],
   "source": [
    "y = df12.carpet_area\n",
    "y.head(3)"
   ]
  },
  {
   "cell_type": "code",
   "execution_count": 188,
   "id": "ab3d0734",
   "metadata": {},
   "outputs": [
    {
     "data": {
      "text/plain": [
       "dtype('float64')"
      ]
     },
     "execution_count": 188,
     "metadata": {},
     "output_type": "execute_result"
    }
   ],
   "source": [
    "y.dtype"
   ]
  },
  {
   "cell_type": "code",
   "execution_count": 189,
   "id": "58252846",
   "metadata": {},
   "outputs": [
    {
     "data": {
      "text/plain": [
       "5"
      ]
     },
     "execution_count": 189,
     "metadata": {},
     "output_type": "execute_result"
    }
   ],
   "source": [
    "len(y)"
   ]
  },
  {
   "cell_type": "code",
   "execution_count": 190,
   "id": "c81efabf",
   "metadata": {},
   "outputs": [],
   "source": [
    "from sklearn.model_selection import train_test_split\n",
    "X_train, X_test, y_train, y_test = train_test_split(X,y,test_size=0.2,random_state=10)"
   ]
  },
  {
   "cell_type": "code",
   "execution_count": 197,
   "id": "58380c55",
   "metadata": {},
   "outputs": [
    {
     "data": {
      "text/plain": [
       "nan"
      ]
     },
     "execution_count": 197,
     "metadata": {},
     "output_type": "execute_result"
    }
   ],
   "source": [
    "from sklearn.linear_model import LinearRegression\n",
    "from sklearn.model_selection import train_test_split\n",
    "from sklearn.metrics import mean_squared_error, r2_score\n",
    "import numpy as np\n",
    "\n",
    "lr_clf = LinearRegression()\n",
    "lr_clf.fit(X_train,y_train)\n",
    "lr_clf.score(X_test,y_test)"
   ]
  },
  {
   "cell_type": "markdown",
   "id": "5cf9c9bf",
   "metadata": {},
   "source": [
    "# K Fold cross validation to measure accuracy of our LinearRegression model\n"
   ]
  },
  {
   "cell_type": "code",
   "execution_count": 201,
   "id": "c4e0ea67",
   "metadata": {},
   "outputs": [
    {
     "name": "stdout",
     "output_type": "stream",
     "text": [
      "Cross-validated R^2 scores: [nan nan nan nan nan]\n"
     ]
    }
   ],
   "source": [
    "from sklearn.model_selection import cross_val_score, KFold\n",
    "from sklearn.linear_model import LinearRegression\n",
    "import numpy as np\n",
    "\n",
    "# Assuming you have your feature matrix X and target variable y\n",
    "\n",
    "# Create a Linear Regression model\n",
    "lr_model = LinearRegression()\n",
    "\n",
    "# Specify the number of folds (e.g., 5)\n",
    "num_folds = 5\n",
    "\n",
    "# Create a KFold cross-validation object\n",
    "kf = KFold(n_splits=num_folds, shuffle=True, random_state=10)\n",
    "\n",
    "# Perform K-fold cross-validation\n",
    "cross_val_results = cross_val_score(lr_model, X, y, cv=kf, scoring='r2')\n",
    "\n",
    "# Print the results\n",
    "print(\"Cross-validated R^2 scores:\", cross_val_results)\n"
   ]
  },
  {
   "cell_type": "code",
   "execution_count": null,
   "id": "7d01cb44",
   "metadata": {},
   "outputs": [],
   "source": []
  }
 ],
 "metadata": {
  "kernelspec": {
   "display_name": "Python 3 (ipykernel)",
   "language": "python",
   "name": "python3"
  },
  "language_info": {
   "codemirror_mode": {
    "name": "ipython",
    "version": 3
   },
   "file_extension": ".py",
   "mimetype": "text/x-python",
   "name": "python",
   "nbconvert_exporter": "python",
   "pygments_lexer": "ipython3",
   "version": "3.9.6"
  }
 },
 "nbformat": 4,
 "nbformat_minor": 5
}
